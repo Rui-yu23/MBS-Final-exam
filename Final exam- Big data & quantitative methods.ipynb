{
 "cells": [
  {
   "cell_type": "markdown",
   "source": [
    "# Team project Big data and quantitative methods\n",
    "## Rui YU"
   ],
   "metadata": {
    "collapsed": false,
    "pycharm": {
     "name": "#%% md\n"
    }
   }
  },
  {
   "cell_type": "markdown",
   "source": [
    "#### Q1. Work with the sharing bike dataset: Sharing_Bike.db\n",
    "##### In order to encourage people to use shared bicycles and design a reasonable tariff, we shall analyze the data from different perspectives.\n",
    "##### The data of sharing bike contains three tables: bike, Calendar, and weather."
   ],
   "metadata": {
    "collapsed": false,
    "pycharm": {
     "name": "#%% md\n"
    }
   }
  },
  {
   "cell_type": "markdown",
   "source": [
    "##### A. Considering the holidays, write a SQL code to calculate the total count of casual users and the total count of registered users in each holiday of 2012."
   ],
   "metadata": {
    "collapsed": false,
    "pycharm": {
     "name": "#%% md\n"
    }
   }
  },
  {
   "cell_type": "code",
   "execution_count": 5,
   "outputs": [],
   "source": [
    "import sqlite3\n",
    "import pandas as pd"
   ],
   "metadata": {
    "collapsed": false,
    "pycharm": {
     "name": "#%%\n"
    }
   }
  },
  {
   "cell_type": "code",
   "execution_count": 3,
   "outputs": [],
   "source": [
    "# Open the database from Python, i use sqlite3 to get the connection with the database Sharing_bike\n",
    "conn = sqlite3.connect('/Users/ruiyu/Desktop/Big Data/Quabtitative methods/Final exam/dataset/Sharing_Bike.db')"
   ],
   "metadata": {
    "collapsed": false,
    "pycharm": {
     "name": "#%%\n"
    }
   }
  },
  {
   "cell_type": "code",
   "execution_count": 4,
   "outputs": [],
   "source": [
    "# Use the pd.read_sql_query to use SQL code in python to get the table\n",
    "df_total_users = pd.read_sql_query(\n",
    "    '''SELECT bike.dteday as holiday, sum(casual) as Total_casual_users,\n",
    "       sum(registered) as Total_registered_users\n",
    "       FROM bike\n",
    "       JOIN Calendar C\n",
    "       ON bike.dteday = C.dteday\n",
    "       WHERE C.holiday = 1\n",
    "       group by bike.dteday;''', conn)"
   ],
   "metadata": {
    "collapsed": false,
    "pycharm": {
     "name": "#%%\n"
    }
   }
  },
  {
   "cell_type": "code",
   "execution_count": 5,
   "outputs": [
    {
     "name": "stdout",
     "output_type": "stream",
     "text": [
      "       holiday  Total_casual_users  Total_registered_users\n",
      "0   2012-01-02                 244                    1707\n",
      "1   2012-01-16                 217                    2081\n",
      "2   2012-02-20                 502                    2627\n",
      "3   2012-04-16                1198                    5172\n",
      "4   2012-05-28                2557                    3486\n",
      "5   2012-07-04                2562                    4841\n",
      "6   2012-09-03                1965                    4069\n",
      "7   2012-10-08                 874                    4604\n",
      "8   2012-11-12                1097                    5172\n",
      "9   2012-11-22                 955                    1470\n",
      "10  2012-12-25                 440                     573\n"
     ]
    }
   ],
   "source": [
    "print(df_total_users)"
   ],
   "metadata": {
    "collapsed": false,
    "pycharm": {
     "name": "#%%\n"
    }
   }
  },
  {
   "cell_type": "markdown",
   "source": [],
   "metadata": {
    "collapsed": false,
    "pycharm": {
     "name": "#%% md\n"
    }
   }
  },
  {
   "cell_type": "markdown",
   "source": [
    "##### B.Considering 24 hours in a day, write a SQL code to calculate the average count of casual users and the average count of registered users for each hour."
   ],
   "metadata": {
    "collapsed": false,
    "pycharm": {
     "name": "#%% md\n"
    }
   }
  },
  {
   "cell_type": "code",
   "execution_count": 39,
   "outputs": [],
   "source": [
    "df_average_users_hour = pd.read_sql_query(\n",
    "    '''SELECT hr, sum(casual)/count(casual) as average_casual_hour,\n",
    "       sum(registered)/count(registered) as average_registered_hour\n",
    "       from bike\n",
    "       group by hr;''', conn)"
   ],
   "metadata": {
    "collapsed": false,
    "pycharm": {
     "name": "#%%\n"
    }
   }
  },
  {
   "cell_type": "code",
   "execution_count": 40,
   "outputs": [
    {
     "name": "stdout",
     "output_type": "stream",
     "text": [
      "    hr  average_casual_hour  average_registered_hour\n",
      "0    0                   10                       53\n",
      "1    1                    7                       32\n",
      "2    2                    5                       21\n",
      "3    3                    2                       10\n",
      "4    4                    1                        6\n",
      "5    5                    1                       23\n",
      "6    6                    4                       89\n",
      "7    7                   11                      255\n",
      "8    8                   24                      430\n",
      "9    9                   37                      237\n",
      "10  10                   56                      159\n",
      "11  11                   73                      186\n",
      "12  12                   84                      232\n",
      "13  13                   89                      227\n",
      "14  14                   93                      205\n",
      "15  15                   92                      221\n",
      "16  16                   90                      298\n",
      "17  17                   89                      483\n",
      "18  18                   72                      455\n",
      "19  19                   57                      328\n",
      "20  20                   42                      236\n",
      "21  21                   32                      177\n",
      "22  22                   25                      133\n",
      "23  23                   16                       89\n"
     ]
    }
   ],
   "source": [
    "print(df_average_users_hour)"
   ],
   "metadata": {
    "collapsed": false,
    "pycharm": {
     "name": "#%%\n"
    }
   }
  },
  {
   "cell_type": "markdown",
   "source": [
    "###### I group by the dteday and calculate the total number of users per day then divided it by 24 to get the average of users per hour."
   ],
   "metadata": {
    "collapsed": false,
    "pycharm": {
     "name": "#%% md\n"
    }
   }
  },
  {
   "cell_type": "markdown",
   "source": [
    "##### C. Output the top 20 dates of the highest total counts of casual users in 2012 with a SQL code."
   ],
   "metadata": {
    "collapsed": false,
    "pycharm": {
     "name": "#%% md\n"
    }
   }
  },
  {
   "cell_type": "code",
   "execution_count": 8,
   "outputs": [],
   "source": [
    "df_top20_casual_users = pd.read_sql_query(\n",
    "    '''SELECT bike.dteday, sum(casual) as total_casual_users\n",
    "       from bike\n",
    "       group by bike.dteday\n",
    "       order by total_casual_users desc\n",
    "       limit 20;''', conn)"
   ],
   "metadata": {
    "collapsed": false,
    "pycharm": {
     "name": "#%%\n"
    }
   }
  },
  {
   "cell_type": "code",
   "execution_count": 9,
   "outputs": [
    {
     "name": "stdout",
     "output_type": "stream",
     "text": [
      "        dteday  total_casual_users\n",
      "0   2012-05-19                3410\n",
      "1   2012-05-27                3283\n",
      "2   2012-04-07                3252\n",
      "3   2012-09-15                3160\n",
      "4   2012-03-17                3155\n",
      "5   2012-10-06                3031\n",
      "6   2012-06-16                2963\n",
      "7   2012-05-26                2855\n",
      "8   2012-04-15                2846\n",
      "9   2012-08-18                2827\n",
      "10  2012-10-20                2806\n",
      "11  2012-04-14                2795\n",
      "12  2012-06-02                2795\n",
      "13  2012-06-09                2708\n",
      "14  2012-05-20                2704\n",
      "15  2012-06-23                2657\n",
      "16  2012-10-27                2643\n",
      "17  2012-06-17                2634\n",
      "18  2012-05-12                2622\n",
      "19  2012-09-02                2613\n"
     ]
    }
   ],
   "source": [
    "print(df_top20_casual_users)"
   ],
   "metadata": {
    "collapsed": false,
    "pycharm": {
     "name": "#%%\n"
    }
   }
  },
  {
   "cell_type": "markdown",
   "source": [],
   "metadata": {
    "collapsed": false,
    "pycharm": {
     "name": "#%% md\n"
    }
   }
  },
  {
   "cell_type": "markdown",
   "source": [
    "### Q2. Work with the real estate dataset, realestate.xlsx or realestate.csv\n",
    "##### For question A and B, please hand in all source codes and the result."
   ],
   "metadata": {
    "collapsed": false,
    "pycharm": {
     "name": "#%% md\n"
    }
   }
  },
  {
   "cell_type": "markdown",
   "source": [
    "##### A.You are asked to predict Sale Price, what are your reasonable choices from the dataset? Please report the total amounts of reasonable choices in the report, write a python code to express all your reasonable choices in regression formula.\n",
    "Note: reasonable choices refer to considering all possible combinations of independent variables."
   ],
   "metadata": {
    "collapsed": false,
    "pycharm": {
     "name": "#%% md\n"
    }
   }
  },
  {
   "cell_type": "code",
   "execution_count": 3,
   "outputs": [],
   "source": [
    "import statsmodels.formula.api as smf\n",
    "from itertools import combinations"
   ],
   "metadata": {
    "collapsed": false,
    "pycharm": {
     "name": "#%%\n"
    }
   }
  },
  {
   "cell_type": "code",
   "execution_count": 6,
   "outputs": [
    {
     "data": {
      "text/plain": "    SalePrice   Size  Beds  Baths  Num_Garage  Year Highway Aircondition  \\\n0       360.0  3.032     4      4           2  1972      no          yes   \n1       340.0  2.058     4      2           2  1976      no          yes   \n2       250.0  1.780     4      3           2  1980      no          yes   \n3       205.5  1.638     4      2           2  1963      no          yes   \n4       275.5  2.196     4      3           2  1968      no          yes   \n5       248.0  1.966     4      3           5  1972      no          yes   \n6       229.9  2.216     3      2           2  1972      no          yes   \n7       150.0  1.597     2      1           1  1955      no          yes   \n8       195.0  1.622     3      2           2  1975      no          yes   \n9       160.0  1.976     3      3           1  1918      no           no   \n10      190.0  2.812     7      5           2  1966      no           no   \n11      559.0  2.791     3      4           3  1992      no          yes   \n12      535.0  3.381     5      4           3  1988      no          yes   \n13      525.0  3.459     5      4           2  1978      no          yes   \n14      299.9  2.090     3      3           2  1987      no          yes   \n\n   SwimmingPool  \n0            no  \n1            no  \n2            no  \n3            no  \n4            no  \n5           yes  \n6            no  \n7            no  \n8            no  \n9            no  \n10          yes  \n11           no  \n12           no  \n13           no  \n14           no  ",
      "text/html": "<div>\n<style scoped>\n    .dataframe tbody tr th:only-of-type {\n        vertical-align: middle;\n    }\n\n    .dataframe tbody tr th {\n        vertical-align: top;\n    }\n\n    .dataframe thead th {\n        text-align: right;\n    }\n</style>\n<table border=\"1\" class=\"dataframe\">\n  <thead>\n    <tr style=\"text-align: right;\">\n      <th></th>\n      <th>SalePrice</th>\n      <th>Size</th>\n      <th>Beds</th>\n      <th>Baths</th>\n      <th>Num_Garage</th>\n      <th>Year</th>\n      <th>Highway</th>\n      <th>Aircondition</th>\n      <th>SwimmingPool</th>\n    </tr>\n  </thead>\n  <tbody>\n    <tr>\n      <th>0</th>\n      <td>360.0</td>\n      <td>3.032</td>\n      <td>4</td>\n      <td>4</td>\n      <td>2</td>\n      <td>1972</td>\n      <td>no</td>\n      <td>yes</td>\n      <td>no</td>\n    </tr>\n    <tr>\n      <th>1</th>\n      <td>340.0</td>\n      <td>2.058</td>\n      <td>4</td>\n      <td>2</td>\n      <td>2</td>\n      <td>1976</td>\n      <td>no</td>\n      <td>yes</td>\n      <td>no</td>\n    </tr>\n    <tr>\n      <th>2</th>\n      <td>250.0</td>\n      <td>1.780</td>\n      <td>4</td>\n      <td>3</td>\n      <td>2</td>\n      <td>1980</td>\n      <td>no</td>\n      <td>yes</td>\n      <td>no</td>\n    </tr>\n    <tr>\n      <th>3</th>\n      <td>205.5</td>\n      <td>1.638</td>\n      <td>4</td>\n      <td>2</td>\n      <td>2</td>\n      <td>1963</td>\n      <td>no</td>\n      <td>yes</td>\n      <td>no</td>\n    </tr>\n    <tr>\n      <th>4</th>\n      <td>275.5</td>\n      <td>2.196</td>\n      <td>4</td>\n      <td>3</td>\n      <td>2</td>\n      <td>1968</td>\n      <td>no</td>\n      <td>yes</td>\n      <td>no</td>\n    </tr>\n    <tr>\n      <th>5</th>\n      <td>248.0</td>\n      <td>1.966</td>\n      <td>4</td>\n      <td>3</td>\n      <td>5</td>\n      <td>1972</td>\n      <td>no</td>\n      <td>yes</td>\n      <td>yes</td>\n    </tr>\n    <tr>\n      <th>6</th>\n      <td>229.9</td>\n      <td>2.216</td>\n      <td>3</td>\n      <td>2</td>\n      <td>2</td>\n      <td>1972</td>\n      <td>no</td>\n      <td>yes</td>\n      <td>no</td>\n    </tr>\n    <tr>\n      <th>7</th>\n      <td>150.0</td>\n      <td>1.597</td>\n      <td>2</td>\n      <td>1</td>\n      <td>1</td>\n      <td>1955</td>\n      <td>no</td>\n      <td>yes</td>\n      <td>no</td>\n    </tr>\n    <tr>\n      <th>8</th>\n      <td>195.0</td>\n      <td>1.622</td>\n      <td>3</td>\n      <td>2</td>\n      <td>2</td>\n      <td>1975</td>\n      <td>no</td>\n      <td>yes</td>\n      <td>no</td>\n    </tr>\n    <tr>\n      <th>9</th>\n      <td>160.0</td>\n      <td>1.976</td>\n      <td>3</td>\n      <td>3</td>\n      <td>1</td>\n      <td>1918</td>\n      <td>no</td>\n      <td>no</td>\n      <td>no</td>\n    </tr>\n    <tr>\n      <th>10</th>\n      <td>190.0</td>\n      <td>2.812</td>\n      <td>7</td>\n      <td>5</td>\n      <td>2</td>\n      <td>1966</td>\n      <td>no</td>\n      <td>no</td>\n      <td>yes</td>\n    </tr>\n    <tr>\n      <th>11</th>\n      <td>559.0</td>\n      <td>2.791</td>\n      <td>3</td>\n      <td>4</td>\n      <td>3</td>\n      <td>1992</td>\n      <td>no</td>\n      <td>yes</td>\n      <td>no</td>\n    </tr>\n    <tr>\n      <th>12</th>\n      <td>535.0</td>\n      <td>3.381</td>\n      <td>5</td>\n      <td>4</td>\n      <td>3</td>\n      <td>1988</td>\n      <td>no</td>\n      <td>yes</td>\n      <td>no</td>\n    </tr>\n    <tr>\n      <th>13</th>\n      <td>525.0</td>\n      <td>3.459</td>\n      <td>5</td>\n      <td>4</td>\n      <td>2</td>\n      <td>1978</td>\n      <td>no</td>\n      <td>yes</td>\n      <td>no</td>\n    </tr>\n    <tr>\n      <th>14</th>\n      <td>299.9</td>\n      <td>2.090</td>\n      <td>3</td>\n      <td>3</td>\n      <td>2</td>\n      <td>1987</td>\n      <td>no</td>\n      <td>yes</td>\n      <td>no</td>\n    </tr>\n  </tbody>\n</table>\n</div>"
     },
     "execution_count": 6,
     "metadata": {},
     "output_type": "execute_result"
    }
   ],
   "source": [
    "# Open the excel file to get know the general information of this file\n",
    "df_realstate = pd.read_excel('/Users/ruiyu/Desktop/Big Data/Quabtitative methods/Final exam/dataset/Realstate.xlsx')\n",
    "df_realstate.head(15)"
   ],
   "metadata": {
    "collapsed": false,
    "pycharm": {
     "name": "#%%\n"
    }
   }
  },
  {
   "cell_type": "code",
   "execution_count": 7,
   "outputs": [
    {
     "name": "stdout",
     "output_type": "stream",
     "text": [
      "<class 'pandas.core.frame.DataFrame'>\n",
      "RangeIndex: 521 entries, 0 to 520\n",
      "Data columns (total 9 columns):\n",
      " #   Column        Non-Null Count  Dtype  \n",
      "---  ------        --------------  -----  \n",
      " 0   SalePrice     521 non-null    float64\n",
      " 1   Size          521 non-null    float64\n",
      " 2   Beds          521 non-null    int64  \n",
      " 3   Baths         521 non-null    int64  \n",
      " 4   Num_Garage    521 non-null    int64  \n",
      " 5   Year          521 non-null    int64  \n",
      " 6   Highway       521 non-null    object \n",
      " 7   Aircondition  521 non-null    object \n",
      " 8   SwimmingPool  521 non-null    object \n",
      "dtypes: float64(2), int64(4), object(3)\n",
      "memory usage: 36.8+ KB\n"
     ]
    }
   ],
   "source": [
    "df_realstate.info()"
   ],
   "metadata": {
    "collapsed": false,
    "pycharm": {
     "name": "#%%\n"
    }
   }
  },
  {
   "cell_type": "code",
   "execution_count": 8,
   "outputs": [
    {
     "name": "stdout",
     "output_type": "stream",
     "text": [
      "[['Size'], ['Beds'], ['Baths'], ['Num_Garage'], ['Year'], ['Highway'], ['Aircondition'], ['SwimmingPool'], ['Size', 'Beds'], ['Size', 'Baths'], ['Size', 'Num_Garage'], ['Size', 'Year'], ['Size', 'Highway'], ['Size', 'Aircondition'], ['Size', 'SwimmingPool'], ['Beds', 'Baths'], ['Beds', 'Num_Garage'], ['Beds', 'Year'], ['Beds', 'Highway'], ['Beds', 'Aircondition'], ['Beds', 'SwimmingPool'], ['Baths', 'Num_Garage'], ['Baths', 'Year'], ['Baths', 'Highway'], ['Baths', 'Aircondition'], ['Baths', 'SwimmingPool'], ['Num_Garage', 'Year'], ['Num_Garage', 'Highway'], ['Num_Garage', 'Aircondition'], ['Num_Garage', 'SwimmingPool'], ['Year', 'Highway'], ['Year', 'Aircondition'], ['Year', 'SwimmingPool'], ['Highway', 'Aircondition'], ['Highway', 'SwimmingPool'], ['Aircondition', 'SwimmingPool'], ['Size', 'Beds', 'Baths'], ['Size', 'Beds', 'Num_Garage'], ['Size', 'Beds', 'Year'], ['Size', 'Beds', 'Highway'], ['Size', 'Beds', 'Aircondition'], ['Size', 'Beds', 'SwimmingPool'], ['Size', 'Baths', 'Num_Garage'], ['Size', 'Baths', 'Year'], ['Size', 'Baths', 'Highway'], ['Size', 'Baths', 'Aircondition'], ['Size', 'Baths', 'SwimmingPool'], ['Size', 'Num_Garage', 'Year'], ['Size', 'Num_Garage', 'Highway'], ['Size', 'Num_Garage', 'Aircondition'], ['Size', 'Num_Garage', 'SwimmingPool'], ['Size', 'Year', 'Highway'], ['Size', 'Year', 'Aircondition'], ['Size', 'Year', 'SwimmingPool'], ['Size', 'Highway', 'Aircondition'], ['Size', 'Highway', 'SwimmingPool'], ['Size', 'Aircondition', 'SwimmingPool'], ['Beds', 'Baths', 'Num_Garage'], ['Beds', 'Baths', 'Year'], ['Beds', 'Baths', 'Highway'], ['Beds', 'Baths', 'Aircondition'], ['Beds', 'Baths', 'SwimmingPool'], ['Beds', 'Num_Garage', 'Year'], ['Beds', 'Num_Garage', 'Highway'], ['Beds', 'Num_Garage', 'Aircondition'], ['Beds', 'Num_Garage', 'SwimmingPool'], ['Beds', 'Year', 'Highway'], ['Beds', 'Year', 'Aircondition'], ['Beds', 'Year', 'SwimmingPool'], ['Beds', 'Highway', 'Aircondition'], ['Beds', 'Highway', 'SwimmingPool'], ['Beds', 'Aircondition', 'SwimmingPool'], ['Baths', 'Num_Garage', 'Year'], ['Baths', 'Num_Garage', 'Highway'], ['Baths', 'Num_Garage', 'Aircondition'], ['Baths', 'Num_Garage', 'SwimmingPool'], ['Baths', 'Year', 'Highway'], ['Baths', 'Year', 'Aircondition'], ['Baths', 'Year', 'SwimmingPool'], ['Baths', 'Highway', 'Aircondition'], ['Baths', 'Highway', 'SwimmingPool'], ['Baths', 'Aircondition', 'SwimmingPool'], ['Num_Garage', 'Year', 'Highway'], ['Num_Garage', 'Year', 'Aircondition'], ['Num_Garage', 'Year', 'SwimmingPool'], ['Num_Garage', 'Highway', 'Aircondition'], ['Num_Garage', 'Highway', 'SwimmingPool'], ['Num_Garage', 'Aircondition', 'SwimmingPool'], ['Year', 'Highway', 'Aircondition'], ['Year', 'Highway', 'SwimmingPool'], ['Year', 'Aircondition', 'SwimmingPool'], ['Highway', 'Aircondition', 'SwimmingPool'], ['Size', 'Beds', 'Baths', 'Num_Garage'], ['Size', 'Beds', 'Baths', 'Year'], ['Size', 'Beds', 'Baths', 'Highway'], ['Size', 'Beds', 'Baths', 'Aircondition'], ['Size', 'Beds', 'Baths', 'SwimmingPool'], ['Size', 'Beds', 'Num_Garage', 'Year'], ['Size', 'Beds', 'Num_Garage', 'Highway'], ['Size', 'Beds', 'Num_Garage', 'Aircondition'], ['Size', 'Beds', 'Num_Garage', 'SwimmingPool'], ['Size', 'Beds', 'Year', 'Highway'], ['Size', 'Beds', 'Year', 'Aircondition'], ['Size', 'Beds', 'Year', 'SwimmingPool'], ['Size', 'Beds', 'Highway', 'Aircondition'], ['Size', 'Beds', 'Highway', 'SwimmingPool'], ['Size', 'Beds', 'Aircondition', 'SwimmingPool'], ['Size', 'Baths', 'Num_Garage', 'Year'], ['Size', 'Baths', 'Num_Garage', 'Highway'], ['Size', 'Baths', 'Num_Garage', 'Aircondition'], ['Size', 'Baths', 'Num_Garage', 'SwimmingPool'], ['Size', 'Baths', 'Year', 'Highway'], ['Size', 'Baths', 'Year', 'Aircondition'], ['Size', 'Baths', 'Year', 'SwimmingPool'], ['Size', 'Baths', 'Highway', 'Aircondition'], ['Size', 'Baths', 'Highway', 'SwimmingPool'], ['Size', 'Baths', 'Aircondition', 'SwimmingPool'], ['Size', 'Num_Garage', 'Year', 'Highway'], ['Size', 'Num_Garage', 'Year', 'Aircondition'], ['Size', 'Num_Garage', 'Year', 'SwimmingPool'], ['Size', 'Num_Garage', 'Highway', 'Aircondition'], ['Size', 'Num_Garage', 'Highway', 'SwimmingPool'], ['Size', 'Num_Garage', 'Aircondition', 'SwimmingPool'], ['Size', 'Year', 'Highway', 'Aircondition'], ['Size', 'Year', 'Highway', 'SwimmingPool'], ['Size', 'Year', 'Aircondition', 'SwimmingPool'], ['Size', 'Highway', 'Aircondition', 'SwimmingPool'], ['Beds', 'Baths', 'Num_Garage', 'Year'], ['Beds', 'Baths', 'Num_Garage', 'Highway'], ['Beds', 'Baths', 'Num_Garage', 'Aircondition'], ['Beds', 'Baths', 'Num_Garage', 'SwimmingPool'], ['Beds', 'Baths', 'Year', 'Highway'], ['Beds', 'Baths', 'Year', 'Aircondition'], ['Beds', 'Baths', 'Year', 'SwimmingPool'], ['Beds', 'Baths', 'Highway', 'Aircondition'], ['Beds', 'Baths', 'Highway', 'SwimmingPool'], ['Beds', 'Baths', 'Aircondition', 'SwimmingPool'], ['Beds', 'Num_Garage', 'Year', 'Highway'], ['Beds', 'Num_Garage', 'Year', 'Aircondition'], ['Beds', 'Num_Garage', 'Year', 'SwimmingPool'], ['Beds', 'Num_Garage', 'Highway', 'Aircondition'], ['Beds', 'Num_Garage', 'Highway', 'SwimmingPool'], ['Beds', 'Num_Garage', 'Aircondition', 'SwimmingPool'], ['Beds', 'Year', 'Highway', 'Aircondition'], ['Beds', 'Year', 'Highway', 'SwimmingPool'], ['Beds', 'Year', 'Aircondition', 'SwimmingPool'], ['Beds', 'Highway', 'Aircondition', 'SwimmingPool'], ['Baths', 'Num_Garage', 'Year', 'Highway'], ['Baths', 'Num_Garage', 'Year', 'Aircondition'], ['Baths', 'Num_Garage', 'Year', 'SwimmingPool'], ['Baths', 'Num_Garage', 'Highway', 'Aircondition'], ['Baths', 'Num_Garage', 'Highway', 'SwimmingPool'], ['Baths', 'Num_Garage', 'Aircondition', 'SwimmingPool'], ['Baths', 'Year', 'Highway', 'Aircondition'], ['Baths', 'Year', 'Highway', 'SwimmingPool'], ['Baths', 'Year', 'Aircondition', 'SwimmingPool'], ['Baths', 'Highway', 'Aircondition', 'SwimmingPool'], ['Num_Garage', 'Year', 'Highway', 'Aircondition'], ['Num_Garage', 'Year', 'Highway', 'SwimmingPool'], ['Num_Garage', 'Year', 'Aircondition', 'SwimmingPool'], ['Num_Garage', 'Highway', 'Aircondition', 'SwimmingPool'], ['Year', 'Highway', 'Aircondition', 'SwimmingPool'], ['Size', 'Beds', 'Baths', 'Num_Garage', 'Year'], ['Size', 'Beds', 'Baths', 'Num_Garage', 'Highway'], ['Size', 'Beds', 'Baths', 'Num_Garage', 'Aircondition'], ['Size', 'Beds', 'Baths', 'Num_Garage', 'SwimmingPool'], ['Size', 'Beds', 'Baths', 'Year', 'Highway'], ['Size', 'Beds', 'Baths', 'Year', 'Aircondition'], ['Size', 'Beds', 'Baths', 'Year', 'SwimmingPool'], ['Size', 'Beds', 'Baths', 'Highway', 'Aircondition'], ['Size', 'Beds', 'Baths', 'Highway', 'SwimmingPool'], ['Size', 'Beds', 'Baths', 'Aircondition', 'SwimmingPool'], ['Size', 'Beds', 'Num_Garage', 'Year', 'Highway'], ['Size', 'Beds', 'Num_Garage', 'Year', 'Aircondition'], ['Size', 'Beds', 'Num_Garage', 'Year', 'SwimmingPool'], ['Size', 'Beds', 'Num_Garage', 'Highway', 'Aircondition'], ['Size', 'Beds', 'Num_Garage', 'Highway', 'SwimmingPool'], ['Size', 'Beds', 'Num_Garage', 'Aircondition', 'SwimmingPool'], ['Size', 'Beds', 'Year', 'Highway', 'Aircondition'], ['Size', 'Beds', 'Year', 'Highway', 'SwimmingPool'], ['Size', 'Beds', 'Year', 'Aircondition', 'SwimmingPool'], ['Size', 'Beds', 'Highway', 'Aircondition', 'SwimmingPool'], ['Size', 'Baths', 'Num_Garage', 'Year', 'Highway'], ['Size', 'Baths', 'Num_Garage', 'Year', 'Aircondition'], ['Size', 'Baths', 'Num_Garage', 'Year', 'SwimmingPool'], ['Size', 'Baths', 'Num_Garage', 'Highway', 'Aircondition'], ['Size', 'Baths', 'Num_Garage', 'Highway', 'SwimmingPool'], ['Size', 'Baths', 'Num_Garage', 'Aircondition', 'SwimmingPool'], ['Size', 'Baths', 'Year', 'Highway', 'Aircondition'], ['Size', 'Baths', 'Year', 'Highway', 'SwimmingPool'], ['Size', 'Baths', 'Year', 'Aircondition', 'SwimmingPool'], ['Size', 'Baths', 'Highway', 'Aircondition', 'SwimmingPool'], ['Size', 'Num_Garage', 'Year', 'Highway', 'Aircondition'], ['Size', 'Num_Garage', 'Year', 'Highway', 'SwimmingPool'], ['Size', 'Num_Garage', 'Year', 'Aircondition', 'SwimmingPool'], ['Size', 'Num_Garage', 'Highway', 'Aircondition', 'SwimmingPool'], ['Size', 'Year', 'Highway', 'Aircondition', 'SwimmingPool'], ['Beds', 'Baths', 'Num_Garage', 'Year', 'Highway'], ['Beds', 'Baths', 'Num_Garage', 'Year', 'Aircondition'], ['Beds', 'Baths', 'Num_Garage', 'Year', 'SwimmingPool'], ['Beds', 'Baths', 'Num_Garage', 'Highway', 'Aircondition'], ['Beds', 'Baths', 'Num_Garage', 'Highway', 'SwimmingPool'], ['Beds', 'Baths', 'Num_Garage', 'Aircondition', 'SwimmingPool'], ['Beds', 'Baths', 'Year', 'Highway', 'Aircondition'], ['Beds', 'Baths', 'Year', 'Highway', 'SwimmingPool'], ['Beds', 'Baths', 'Year', 'Aircondition', 'SwimmingPool'], ['Beds', 'Baths', 'Highway', 'Aircondition', 'SwimmingPool'], ['Beds', 'Num_Garage', 'Year', 'Highway', 'Aircondition'], ['Beds', 'Num_Garage', 'Year', 'Highway', 'SwimmingPool'], ['Beds', 'Num_Garage', 'Year', 'Aircondition', 'SwimmingPool'], ['Beds', 'Num_Garage', 'Highway', 'Aircondition', 'SwimmingPool'], ['Beds', 'Year', 'Highway', 'Aircondition', 'SwimmingPool'], ['Baths', 'Num_Garage', 'Year', 'Highway', 'Aircondition'], ['Baths', 'Num_Garage', 'Year', 'Highway', 'SwimmingPool'], ['Baths', 'Num_Garage', 'Year', 'Aircondition', 'SwimmingPool'], ['Baths', 'Num_Garage', 'Highway', 'Aircondition', 'SwimmingPool'], ['Baths', 'Year', 'Highway', 'Aircondition', 'SwimmingPool'], ['Num_Garage', 'Year', 'Highway', 'Aircondition', 'SwimmingPool'], ['Size', 'Beds', 'Baths', 'Num_Garage', 'Year', 'Highway'], ['Size', 'Beds', 'Baths', 'Num_Garage', 'Year', 'Aircondition'], ['Size', 'Beds', 'Baths', 'Num_Garage', 'Year', 'SwimmingPool'], ['Size', 'Beds', 'Baths', 'Num_Garage', 'Highway', 'Aircondition'], ['Size', 'Beds', 'Baths', 'Num_Garage', 'Highway', 'SwimmingPool'], ['Size', 'Beds', 'Baths', 'Num_Garage', 'Aircondition', 'SwimmingPool'], ['Size', 'Beds', 'Baths', 'Year', 'Highway', 'Aircondition'], ['Size', 'Beds', 'Baths', 'Year', 'Highway', 'SwimmingPool'], ['Size', 'Beds', 'Baths', 'Year', 'Aircondition', 'SwimmingPool'], ['Size', 'Beds', 'Baths', 'Highway', 'Aircondition', 'SwimmingPool'], ['Size', 'Beds', 'Num_Garage', 'Year', 'Highway', 'Aircondition'], ['Size', 'Beds', 'Num_Garage', 'Year', 'Highway', 'SwimmingPool'], ['Size', 'Beds', 'Num_Garage', 'Year', 'Aircondition', 'SwimmingPool'], ['Size', 'Beds', 'Num_Garage', 'Highway', 'Aircondition', 'SwimmingPool'], ['Size', 'Beds', 'Year', 'Highway', 'Aircondition', 'SwimmingPool'], ['Size', 'Baths', 'Num_Garage', 'Year', 'Highway', 'Aircondition'], ['Size', 'Baths', 'Num_Garage', 'Year', 'Highway', 'SwimmingPool'], ['Size', 'Baths', 'Num_Garage', 'Year', 'Aircondition', 'SwimmingPool'], ['Size', 'Baths', 'Num_Garage', 'Highway', 'Aircondition', 'SwimmingPool'], ['Size', 'Baths', 'Year', 'Highway', 'Aircondition', 'SwimmingPool'], ['Size', 'Num_Garage', 'Year', 'Highway', 'Aircondition', 'SwimmingPool'], ['Beds', 'Baths', 'Num_Garage', 'Year', 'Highway', 'Aircondition'], ['Beds', 'Baths', 'Num_Garage', 'Year', 'Highway', 'SwimmingPool'], ['Beds', 'Baths', 'Num_Garage', 'Year', 'Aircondition', 'SwimmingPool'], ['Beds', 'Baths', 'Num_Garage', 'Highway', 'Aircondition', 'SwimmingPool'], ['Beds', 'Baths', 'Year', 'Highway', 'Aircondition', 'SwimmingPool'], ['Beds', 'Num_Garage', 'Year', 'Highway', 'Aircondition', 'SwimmingPool'], ['Baths', 'Num_Garage', 'Year', 'Highway', 'Aircondition', 'SwimmingPool'], ['Size', 'Beds', 'Baths', 'Num_Garage', 'Year', 'Highway', 'Aircondition'], ['Size', 'Beds', 'Baths', 'Num_Garage', 'Year', 'Highway', 'SwimmingPool'], ['Size', 'Beds', 'Baths', 'Num_Garage', 'Year', 'Aircondition', 'SwimmingPool'], ['Size', 'Beds', 'Baths', 'Num_Garage', 'Highway', 'Aircondition', 'SwimmingPool'], ['Size', 'Beds', 'Baths', 'Year', 'Highway', 'Aircondition', 'SwimmingPool'], ['Size', 'Beds', 'Num_Garage', 'Year', 'Highway', 'Aircondition', 'SwimmingPool'], ['Size', 'Baths', 'Num_Garage', 'Year', 'Highway', 'Aircondition', 'SwimmingPool'], ['Beds', 'Baths', 'Num_Garage', 'Year', 'Highway', 'Aircondition', 'SwimmingPool'], ['Size', 'Beds', 'Baths', 'Num_Garage', 'Year', 'Highway', 'Aircondition', 'SwimmingPool']]\n"
     ]
    }
   ],
   "source": [
    "# I consider SalePrice is dependant variable, there are 8 different features,\n",
    "# I try to find different combination possible in this dataset between these 8 independant variable to get the best combinations to get the best possible linear regression to predict the SalePrice of states.\n",
    "feature = ['Size', 'Beds', 'Baths', 'Num_Garage', 'Year', 'Highway', 'Aircondition', 'SwimmingPool']\n",
    "all_combinations = []\n",
    "for f in range(1, len(feature)+1):\n",
    "    oc = combinations(feature, f)\n",
    "    for c in oc:\n",
    "        all_combinations.append(list(c))\n",
    "print(all_combinations)"
   ],
   "metadata": {
    "collapsed": false,
    "pycharm": {
     "name": "#%%\n"
    }
   }
  },
  {
   "cell_type": "code",
   "execution_count": 9,
   "outputs": [
    {
     "name": "stdout",
     "output_type": "stream",
     "text": [
      "The total reasonable choise is:  255\n"
     ]
    }
   ],
   "source": [
    "num_combinations = len(all_combinations)\n",
    "print('The total reasonable choise is: ',num_combinations)"
   ],
   "metadata": {
    "collapsed": false,
    "pycharm": {
     "name": "#%%\n"
    }
   }
  },
  {
   "cell_type": "code",
   "execution_count": 10,
   "outputs": [
    {
     "data": {
      "text/plain": "   SalePrice   Size  Beds  Baths  Num_Garage  Year  Highway Aircondition  \\\n0      360.0  3.032     4      4           2  1972        0          yes   \n1      340.0  2.058     4      2           2  1976        0          yes   \n2      250.0  1.780     4      3           2  1980        0          yes   \n3      205.5  1.638     4      2           2  1963        0          yes   \n4      275.5  2.196     4      3           2  1968        0          yes   \n\n  SwimmingPool  \n0           no  \n1           no  \n2           no  \n3           no  \n4           no  ",
      "text/html": "<div>\n<style scoped>\n    .dataframe tbody tr th:only-of-type {\n        vertical-align: middle;\n    }\n\n    .dataframe tbody tr th {\n        vertical-align: top;\n    }\n\n    .dataframe thead th {\n        text-align: right;\n    }\n</style>\n<table border=\"1\" class=\"dataframe\">\n  <thead>\n    <tr style=\"text-align: right;\">\n      <th></th>\n      <th>SalePrice</th>\n      <th>Size</th>\n      <th>Beds</th>\n      <th>Baths</th>\n      <th>Num_Garage</th>\n      <th>Year</th>\n      <th>Highway</th>\n      <th>Aircondition</th>\n      <th>SwimmingPool</th>\n    </tr>\n  </thead>\n  <tbody>\n    <tr>\n      <th>0</th>\n      <td>360.0</td>\n      <td>3.032</td>\n      <td>4</td>\n      <td>4</td>\n      <td>2</td>\n      <td>1972</td>\n      <td>0</td>\n      <td>yes</td>\n      <td>no</td>\n    </tr>\n    <tr>\n      <th>1</th>\n      <td>340.0</td>\n      <td>2.058</td>\n      <td>4</td>\n      <td>2</td>\n      <td>2</td>\n      <td>1976</td>\n      <td>0</td>\n      <td>yes</td>\n      <td>no</td>\n    </tr>\n    <tr>\n      <th>2</th>\n      <td>250.0</td>\n      <td>1.780</td>\n      <td>4</td>\n      <td>3</td>\n      <td>2</td>\n      <td>1980</td>\n      <td>0</td>\n      <td>yes</td>\n      <td>no</td>\n    </tr>\n    <tr>\n      <th>3</th>\n      <td>205.5</td>\n      <td>1.638</td>\n      <td>4</td>\n      <td>2</td>\n      <td>2</td>\n      <td>1963</td>\n      <td>0</td>\n      <td>yes</td>\n      <td>no</td>\n    </tr>\n    <tr>\n      <th>4</th>\n      <td>275.5</td>\n      <td>2.196</td>\n      <td>4</td>\n      <td>3</td>\n      <td>2</td>\n      <td>1968</td>\n      <td>0</td>\n      <td>yes</td>\n      <td>no</td>\n    </tr>\n  </tbody>\n</table>\n</div>"
     },
     "execution_count": 10,
     "metadata": {},
     "output_type": "execute_result"
    }
   ],
   "source": [
    "df_realstate['Highway'].replace(('yes', 'no'), (1,0), inplace=True)\n",
    "df_realstate.head()"
   ],
   "metadata": {
    "collapsed": false,
    "pycharm": {
     "name": "#%%\n"
    }
   }
  },
  {
   "cell_type": "code",
   "execution_count": 11,
   "outputs": [
    {
     "data": {
      "text/plain": "   SalePrice   Size  Beds  Baths  Num_Garage  Year  Highway  Aircondition  \\\n0      360.0  3.032     4      4           2  1972        0             1   \n1      340.0  2.058     4      2           2  1976        0             1   \n2      250.0  1.780     4      3           2  1980        0             1   \n3      205.5  1.638     4      2           2  1963        0             1   \n4      275.5  2.196     4      3           2  1968        0             1   \n\n  SwimmingPool  \n0           no  \n1           no  \n2           no  \n3           no  \n4           no  ",
      "text/html": "<div>\n<style scoped>\n    .dataframe tbody tr th:only-of-type {\n        vertical-align: middle;\n    }\n\n    .dataframe tbody tr th {\n        vertical-align: top;\n    }\n\n    .dataframe thead th {\n        text-align: right;\n    }\n</style>\n<table border=\"1\" class=\"dataframe\">\n  <thead>\n    <tr style=\"text-align: right;\">\n      <th></th>\n      <th>SalePrice</th>\n      <th>Size</th>\n      <th>Beds</th>\n      <th>Baths</th>\n      <th>Num_Garage</th>\n      <th>Year</th>\n      <th>Highway</th>\n      <th>Aircondition</th>\n      <th>SwimmingPool</th>\n    </tr>\n  </thead>\n  <tbody>\n    <tr>\n      <th>0</th>\n      <td>360.0</td>\n      <td>3.032</td>\n      <td>4</td>\n      <td>4</td>\n      <td>2</td>\n      <td>1972</td>\n      <td>0</td>\n      <td>1</td>\n      <td>no</td>\n    </tr>\n    <tr>\n      <th>1</th>\n      <td>340.0</td>\n      <td>2.058</td>\n      <td>4</td>\n      <td>2</td>\n      <td>2</td>\n      <td>1976</td>\n      <td>0</td>\n      <td>1</td>\n      <td>no</td>\n    </tr>\n    <tr>\n      <th>2</th>\n      <td>250.0</td>\n      <td>1.780</td>\n      <td>4</td>\n      <td>3</td>\n      <td>2</td>\n      <td>1980</td>\n      <td>0</td>\n      <td>1</td>\n      <td>no</td>\n    </tr>\n    <tr>\n      <th>3</th>\n      <td>205.5</td>\n      <td>1.638</td>\n      <td>4</td>\n      <td>2</td>\n      <td>2</td>\n      <td>1963</td>\n      <td>0</td>\n      <td>1</td>\n      <td>no</td>\n    </tr>\n    <tr>\n      <th>4</th>\n      <td>275.5</td>\n      <td>2.196</td>\n      <td>4</td>\n      <td>3</td>\n      <td>2</td>\n      <td>1968</td>\n      <td>0</td>\n      <td>1</td>\n      <td>no</td>\n    </tr>\n  </tbody>\n</table>\n</div>"
     },
     "execution_count": 11,
     "metadata": {},
     "output_type": "execute_result"
    }
   ],
   "source": [
    "df_realstate['Aircondition'].replace(('yes', 'no'), (1,0), inplace=True)\n",
    "df_realstate.head()"
   ],
   "metadata": {
    "collapsed": false,
    "pycharm": {
     "name": "#%%\n"
    }
   }
  },
  {
   "cell_type": "code",
   "execution_count": 12,
   "outputs": [
    {
     "data": {
      "text/plain": "   SalePrice   Size  Beds  Baths  Num_Garage  Year  Highway  Aircondition  \\\n0      360.0  3.032     4      4           2  1972        0             1   \n1      340.0  2.058     4      2           2  1976        0             1   \n2      250.0  1.780     4      3           2  1980        0             1   \n3      205.5  1.638     4      2           2  1963        0             1   \n4      275.5  2.196     4      3           2  1968        0             1   \n\n   SwimmingPool  \n0             0  \n1             0  \n2             0  \n3             0  \n4             0  ",
      "text/html": "<div>\n<style scoped>\n    .dataframe tbody tr th:only-of-type {\n        vertical-align: middle;\n    }\n\n    .dataframe tbody tr th {\n        vertical-align: top;\n    }\n\n    .dataframe thead th {\n        text-align: right;\n    }\n</style>\n<table border=\"1\" class=\"dataframe\">\n  <thead>\n    <tr style=\"text-align: right;\">\n      <th></th>\n      <th>SalePrice</th>\n      <th>Size</th>\n      <th>Beds</th>\n      <th>Baths</th>\n      <th>Num_Garage</th>\n      <th>Year</th>\n      <th>Highway</th>\n      <th>Aircondition</th>\n      <th>SwimmingPool</th>\n    </tr>\n  </thead>\n  <tbody>\n    <tr>\n      <th>0</th>\n      <td>360.0</td>\n      <td>3.032</td>\n      <td>4</td>\n      <td>4</td>\n      <td>2</td>\n      <td>1972</td>\n      <td>0</td>\n      <td>1</td>\n      <td>0</td>\n    </tr>\n    <tr>\n      <th>1</th>\n      <td>340.0</td>\n      <td>2.058</td>\n      <td>4</td>\n      <td>2</td>\n      <td>2</td>\n      <td>1976</td>\n      <td>0</td>\n      <td>1</td>\n      <td>0</td>\n    </tr>\n    <tr>\n      <th>2</th>\n      <td>250.0</td>\n      <td>1.780</td>\n      <td>4</td>\n      <td>3</td>\n      <td>2</td>\n      <td>1980</td>\n      <td>0</td>\n      <td>1</td>\n      <td>0</td>\n    </tr>\n    <tr>\n      <th>3</th>\n      <td>205.5</td>\n      <td>1.638</td>\n      <td>4</td>\n      <td>2</td>\n      <td>2</td>\n      <td>1963</td>\n      <td>0</td>\n      <td>1</td>\n      <td>0</td>\n    </tr>\n    <tr>\n      <th>4</th>\n      <td>275.5</td>\n      <td>2.196</td>\n      <td>4</td>\n      <td>3</td>\n      <td>2</td>\n      <td>1968</td>\n      <td>0</td>\n      <td>1</td>\n      <td>0</td>\n    </tr>\n  </tbody>\n</table>\n</div>"
     },
     "execution_count": 12,
     "metadata": {},
     "output_type": "execute_result"
    }
   ],
   "source": [
    "df_realstate['SwimmingPool'].replace(('yes', 'no'), (1,0), inplace=True)\n",
    "df_realstate.head()"
   ],
   "metadata": {
    "collapsed": false,
    "pycharm": {
     "name": "#%%\n"
    }
   }
  },
  {
   "cell_type": "code",
   "execution_count": 13,
   "outputs": [
    {
     "name": "stdout",
     "output_type": "stream",
     "text": [
      "The R-squared of  Size is 0.676943525214198\n",
      "The R-squared of  Beds is 0.1862265142650874\n",
      "The R-squared of  Baths is 0.4882290391240367\n",
      "The R-squared of  Num_Garage is 0.3316060447689977\n",
      "The R-squared of  Year is 0.30622680375934563\n",
      "The R-squared of  Highway is 0.0025621650160889686\n",
      "The R-squared of  Aircondition is 0.0829417819231194\n",
      "The R-squared of  SwimmingPool is 0.021917262397680104\n"
     ]
    }
   ],
   "source": [
    "import statsmodels.api as sm\n",
    "#for v in all_combinations:if len(v)== 1:for y in v:\n",
    "for i in all_combinations:\n",
    "    if len(i)==1:\n",
    "       for v in i:\n",
    "           y = df_realstate['SalePrice']\n",
    "           x = df_realstate[v]\n",
    "           x = sm.add_constant(x)\n",
    "           model_v = sm.OLS(y,x).fit()\n",
    "       print('The R-squared of ', v, 'is',model_v.rsquared)"
   ],
   "metadata": {
    "collapsed": false,
    "pycharm": {
     "name": "#%%\n"
    }
   }
  },
  {
   "cell_type": "code",
   "execution_count": 17,
   "outputs": [
    {
     "name": "stdout",
     "output_type": "stream",
     "text": [
      "The R-squared of  ['Size', 'Beds'] is 0.6784137426780028\n",
      "The R-squared of  ['Size', 'Baths'] is 0.6899683825055396\n",
      "The R-squared of  ['Size', 'Num_Garage'] is 0.7026632217585111\n",
      "The R-squared of  ['Size', 'Year'] is 0.7214777114249239\n",
      "The R-squared of  ['Size', 'Highway'] is 0.6769440057049589\n",
      "The R-squared of  ['Size', 'Aircondition'] is 0.6818316812342108\n",
      "The R-squared of  ['Size', 'SwimmingPool'] is 0.6771593595197984\n",
      "The R-squared of  ['Beds', 'Baths'] is 0.4894335974067223\n",
      "The R-squared of  ['Beds', 'Num_Garage'] is 0.3970051003765631\n",
      "The R-squared of  ['Beds', 'Year'] is 0.3887357150075671\n",
      "The R-squared of  ['Beds', 'Highway'] is 0.18764532620894303\n",
      "The R-squared of  ['Beds', 'Aircondition'] is 0.22226135539520864\n",
      "The R-squared of  ['Beds', 'SwimmingPool'] is 0.19449291420015036\n",
      "The R-squared of  ['Baths', 'Num_Garage'] is 0.5565068991214522\n",
      "The R-squared of  ['Baths', 'Year'] is 0.5366279206129357\n",
      "The R-squared of  ['Baths', 'Highway'] is 0.4884348605105179\n",
      "The R-squared of  ['Baths', 'Aircondition'] is 0.49202252232621657\n",
      "The R-squared of  ['Baths', 'SwimmingPool'] is 0.4886228093788634\n",
      "The R-squared of  ['Num_Garage', 'Year'] is 0.437248269981214\n",
      "The R-squared of  ['Num_Garage', 'Highway'] is 0.3340774915265786\n",
      "The R-squared of  ['Num_Garage', 'Aircondition'] is 0.34375015632545347\n",
      "The R-squared of  ['Num_Garage', 'SwimmingPool'] is 0.3388818207350488\n",
      "The R-squared of  ['Year', 'Highway'] is 0.31047197349391376\n",
      "The R-squared of  ['Year', 'Aircondition'] is 0.3096123943796486\n",
      "The R-squared of  ['Year', 'SwimmingPool'] is 0.31937568609910594\n",
      "The R-squared of  ['Highway', 'Aircondition'] is 0.08445731372028142\n",
      "The R-squared of  ['Highway', 'SwimmingPool'] is 0.023918041187491412\n",
      "The R-squared of  ['Aircondition', 'SwimmingPool'] is 0.097131012804899\n",
      "The R-squared of  ['Size', 'Beds', 'Baths'] is 0.6952948641274593\n",
      "The R-squared of  ['Size', 'Beds', 'Num_Garage'] is 0.7046892094311527\n",
      "The R-squared of  ['Size', 'Beds', 'Year'] is 0.7237506926118529\n",
      "The R-squared of  ['Size', 'Beds', 'Highway'] is 0.6784139946330221\n",
      "The R-squared of  ['Size', 'Beds', 'Aircondition'] is 0.6839927834966691\n",
      "The R-squared of  ['Size', 'Beds', 'SwimmingPool'] is 0.6786936834229211\n",
      "The R-squared of  ['Size', 'Baths', 'Num_Garage'] is 0.7104032702581808\n",
      "The R-squared of  ['Size', 'Baths', 'Year'] is 0.7238615673591471\n",
      "The R-squared of  ['Size', 'Baths', 'Highway'] is 0.6899684983100297\n",
      "The R-squared of  ['Size', 'Baths', 'Aircondition'] is 0.6922792320870386\n",
      "The R-squared of  ['Size', 'Baths', 'SwimmingPool'] is 0.6899837030690923\n",
      "The R-squared of  ['Size', 'Num_Garage', 'Year'] is 0.7320542015727265\n",
      "The R-squared of  ['Size', 'Num_Garage', 'Highway'] is 0.7027064764555271\n",
      "The R-squared of  ['Size', 'Num_Garage', 'Aircondition'] is 0.7039764102690772\n",
      "The R-squared of  ['Size', 'Num_Garage', 'SwimmingPool'] is 0.7027687694120424\n",
      "The R-squared of  ['Size', 'Year', 'Highway'] is 0.7216528063931993\n",
      "The R-squared of  ['Size', 'Year', 'Aircondition'] is 0.7215060516369571\n",
      "The R-squared of  ['Size', 'Year', 'SwimmingPool'] is 0.721778736848067\n",
      "The R-squared of  ['Size', 'Highway', 'Aircondition'] is 0.6818328539492555\n",
      "The R-squared of  ['Size', 'Highway', 'SwimmingPool'] is 0.6771594187512882\n",
      "The R-squared of  ['Size', 'Aircondition', 'SwimmingPool'] is 0.6819391139630202\n",
      "The R-squared of  ['Beds', 'Baths', 'Num_Garage'] is 0.5568836169762241\n",
      "The R-squared of  ['Beds', 'Baths', 'Year'] is 0.5383243160399693\n",
      "The R-squared of  ['Beds', 'Baths', 'Highway'] is 0.4896393211995279\n",
      "The R-squared of  ['Beds', 'Baths', 'Aircondition'] is 0.4929670946044058\n",
      "The R-squared of  ['Beds', 'Baths', 'SwimmingPool'] is 0.48978100575866157\n",
      "The R-squared of  ['Beds', 'Num_Garage', 'Year'] is 0.4804481253242865\n",
      "The R-squared of  ['Beds', 'Num_Garage', 'Highway'] is 0.3987467560155523\n",
      "The R-squared of  ['Beds', 'Num_Garage', 'Aircondition'] is 0.40224762552152493\n",
      "The R-squared of  ['Beds', 'Num_Garage', 'SwimmingPool'] is 0.40047500632222643\n",
      "The R-squared of  ['Beds', 'Year', 'Highway'] is 0.39164991381068415\n",
      "The R-squared of  ['Beds', 'Year', 'Aircondition'] is 0.38907765611935385\n",
      "The R-squared of  ['Beds', 'Year', 'SwimmingPool'] is 0.39515574070738746\n",
      "The R-squared of  ['Beds', 'Highway', 'Aircondition'] is 0.22323085182418456\n",
      "The R-squared of  ['Beds', 'Highway', 'SwimmingPool'] is 0.19567540817912665\n",
      "The R-squared of  ['Beds', 'Aircondition', 'SwimmingPool'] is 0.22822800901986662\n",
      "The R-squared of  ['Baths', 'Num_Garage', 'Year'] is 0.5807385238022493\n",
      "The R-squared of  ['Baths', 'Num_Garage', 'Highway'] is 0.5569792655980506\n",
      "The R-squared of  ['Baths', 'Num_Garage', 'Aircondition'] is 0.5566644557119885\n",
      "The R-squared of  ['Baths', 'Num_Garage', 'SwimmingPool'] is 0.5567136021291814\n",
      "The R-squared of  ['Baths', 'Year', 'Highway'] is 0.5374242857040246\n",
      "The R-squared of  ['Baths', 'Year', 'Aircondition'] is 0.5366919198084188\n",
      "The R-squared of  ['Baths', 'Year', 'SwimmingPool'] is 0.537482799832008\n",
      "The R-squared of  ['Baths', 'Highway', 'Aircondition'] is 0.49218657787731623\n",
      "The R-squared of  ['Baths', 'Highway', 'SwimmingPool'] is 0.488811524889076\n",
      "The R-squared of  ['Baths', 'Aircondition', 'SwimmingPool'] is 0.4923137997656879\n",
      "The R-squared of  ['Num_Garage', 'Year', 'Highway'] is 0.44080104330913594\n",
      "The R-squared of  ['Num_Garage', 'Year', 'Aircondition'] is 0.4372556865501602\n",
      "The R-squared of  ['Num_Garage', 'Year', 'SwimmingPool'] is 0.44389887695169705\n",
      "The R-squared of  ['Num_Garage', 'Highway', 'Aircondition'] is 0.3457824453575691\n",
      "The R-squared of  ['Num_Garage', 'Highway', 'SwimmingPool'] is 0.34102846903662754\n",
      "The R-squared of  ['Num_Garage', 'Aircondition', 'SwimmingPool'] is 0.3497703654959121\n",
      "The R-squared of  ['Year', 'Highway', 'Aircondition'] is 0.31344675109637976\n",
      "The R-squared of  ['Year', 'Highway', 'SwimmingPool'] is 0.323027032535006\n",
      "The R-squared of  ['Year', 'Aircondition', 'SwimmingPool'] is 0.3217388287306814\n",
      "The R-squared of  ['Highway', 'Aircondition', 'SwimmingPool'] is 0.09833215132902584\n",
      "The R-squared of  ['Size', 'Beds', 'Baths', 'Num_Garage'] is 0.7155922522620883\n",
      "The R-squared of  ['Size', 'Beds', 'Baths', 'Year'] is 0.7279380076373627\n",
      "The R-squared of  ['Size', 'Beds', 'Baths', 'Highway'] is 0.6952956936197449\n",
      "The R-squared of  ['Size', 'Beds', 'Baths', 'Aircondition'] is 0.6980574518809468\n",
      "The R-squared of  ['Size', 'Beds', 'Baths', 'SwimmingPool'] is 0.6953299398823978\n",
      "The R-squared of  ['Size', 'Beds', 'Num_Garage', 'Year'] is 0.7346303790310782\n",
      "The R-squared of  ['Size', 'Beds', 'Num_Garage', 'Highway'] is 0.7047304303835444\n",
      "The R-squared of  ['Size', 'Beds', 'Num_Garage', 'Aircondition'] is 0.7063898886695061\n",
      "The R-squared of  ['Size', 'Beds', 'Num_Garage', 'SwimmingPool'] is 0.7048482127747409\n",
      "The R-squared of  ['Size', 'Beds', 'Year', 'Highway'] is 0.7239227935324186\n",
      "The R-squared of  ['Size', 'Beds', 'Year', 'Aircondition'] is 0.7237508457887037\n",
      "The R-squared of  ['Size', 'Beds', 'Year', 'SwimmingPool'] is 0.7241473097692781\n",
      "The R-squared of  ['Size', 'Beds', 'Highway', 'Aircondition'] is 0.6839948854839694\n",
      "The R-squared of  ['Size', 'Beds', 'Highway', 'SwimmingPool'] is 0.6786936836650278\n",
      "The R-squared of  ['Size', 'Beds', 'Aircondition', 'SwimmingPool'] is 0.6841494523298959\n",
      "The R-squared of  ['Size', 'Baths', 'Num_Garage', 'Year'] is 0.733676349322286\n",
      "The R-squared of  ['Size', 'Baths', 'Num_Garage', 'Highway'] is 0.7104303903537226\n",
      "The R-squared of  ['Size', 'Baths', 'Num_Garage', 'Aircondition'] is 0.7108716063737841\n",
      "The R-squared of  ['Size', 'Baths', 'Num_Garage', 'SwimmingPool'] is 0.7104083567830686\n",
      "The R-squared of  ['Size', 'Baths', 'Year', 'Highway'] is 0.7240004313356405\n",
      "The R-squared of  ['Size', 'Baths', 'Year', 'Aircondition'] is 0.7239635599889971\n",
      "The R-squared of  ['Size', 'Baths', 'Year', 'SwimmingPool'] is 0.72401360614337\n",
      "The R-squared of  ['Size', 'Baths', 'Highway', 'Aircondition'] is 0.6922814762733274\n",
      "The R-squared of  ['Size', 'Baths', 'Highway', 'SwimmingPool'] is 0.6899839124219991\n",
      "The R-squared of  ['Size', 'Baths', 'Aircondition', 'SwimmingPool'] is 0.6922824148525805\n",
      "The R-squared of  ['Size', 'Num_Garage', 'Year', 'Highway'] is 0.7322884866330395\n",
      "The R-squared of  ['Size', 'Num_Garage', 'Year', 'Aircondition'] is 0.7323864357174041\n",
      "The R-squared of  ['Size', 'Num_Garage', 'Year', 'SwimmingPool'] is 0.7322499779233969\n",
      "The R-squared of  ['Size', 'Num_Garage', 'Highway', 'Aircondition'] is 0.704004965841309\n",
      "The R-squared of  ['Size', 'Num_Garage', 'Highway', 'SwimmingPool'] is 0.7028078896408622\n",
      "The R-squared of  ['Size', 'Num_Garage', 'Aircondition', 'SwimmingPool'] is 0.7040436478200058\n",
      "The R-squared of  ['Size', 'Year', 'Highway', 'Aircondition'] is 0.7216886806976104\n",
      "The R-squared of  ['Size', 'Year', 'Highway', 'SwimmingPool'] is 0.7219405024263292\n",
      "The R-squared of  ['Size', 'Year', 'Aircondition', 'SwimmingPool'] is 0.7218219937519955\n",
      "The R-squared of  ['Size', 'Highway', 'Aircondition', 'SwimmingPool'] is 0.6819410328638049\n",
      "The R-squared of  ['Beds', 'Baths', 'Num_Garage', 'Year'] is 0.5814534606428483\n",
      "The R-squared of  ['Beds', 'Baths', 'Num_Garage', 'Highway'] is 0.5573545023996069\n",
      "The R-squared of  ['Beds', 'Baths', 'Num_Garage', 'Aircondition'] is 0.557015651801212\n",
      "The R-squared of  ['Beds', 'Baths', 'Num_Garage', 'SwimmingPool'] is 0.557072060412883\n",
      "The R-squared of  ['Beds', 'Baths', 'Year', 'Highway'] is 0.5391247598933238\n",
      "The R-squared of  ['Beds', 'Baths', 'Year', 'Aircondition'] is 0.5384516142864504\n",
      "The R-squared of  ['Beds', 'Baths', 'Year', 'SwimmingPool'] is 0.5391005311344073\n",
      "The R-squared of  ['Beds', 'Baths', 'Highway', 'Aircondition'] is 0.493132371312059\n",
      "The R-squared of  ['Beds', 'Baths', 'Highway', 'SwimmingPool'] is 0.48997064861325257\n",
      "The R-squared of  ['Beds', 'Baths', 'Aircondition', 'SwimmingPool'] is 0.4932258698404517\n",
      "The R-squared of  ['Beds', 'Num_Garage', 'Year', 'Highway'] is 0.4831587642965136\n",
      "The R-squared of  ['Beds', 'Num_Garage', 'Year', 'Aircondition'] is 0.48083295716537955\n",
      "The R-squared of  ['Beds', 'Num_Garage', 'Year', 'SwimmingPool'] is 0.4840811890781421\n",
      "The R-squared of  ['Beds', 'Num_Garage', 'Highway', 'Aircondition'] is 0.4037686372499719\n",
      "The R-squared of  ['Beds', 'Num_Garage', 'Highway', 'SwimmingPool'] is 0.40204148287261743\n",
      "The R-squared of  ['Beds', 'Num_Garage', 'Aircondition', 'SwimmingPool'] is 0.40525854106818837\n",
      "The R-squared of  ['Beds', 'Year', 'Highway', 'Aircondition'] is 0.3918958542772293\n",
      "The R-squared of  ['Beds', 'Year', 'Highway', 'SwimmingPool'] is 0.3977604018987586\n",
      "The R-squared of  ['Beds', 'Year', 'Aircondition', 'SwimmingPool'] is 0.3953241185768984\n",
      "The R-squared of  ['Beds', 'Highway', 'Aircondition', 'SwimmingPool'] is 0.2290421862598494\n",
      "The R-squared of  ['Baths', 'Num_Garage', 'Year', 'Highway'] is 0.5816818542065418\n",
      "The R-squared of  ['Baths', 'Num_Garage', 'Year', 'Aircondition'] is 0.581772279555251\n",
      "The R-squared of  ['Baths', 'Num_Garage', 'Year', 'SwimmingPool'] is 0.5812310718832716\n",
      "The R-squared of  ['Baths', 'Num_Garage', 'Highway', 'Aircondition'] is 0.5571205343081027\n",
      "The R-squared of  ['Baths', 'Num_Garage', 'Highway', 'SwimmingPool'] is 0.557166856582747\n",
      "The R-squared of  ['Baths', 'Num_Garage', 'Aircondition', 'SwimmingPool'] is 0.556856553930446\n",
      "The R-squared of  ['Baths', 'Year', 'Highway', 'Aircondition'] is 0.5375116062196239\n",
      "The R-squared of  ['Baths', 'Year', 'Highway', 'SwimmingPool'] is 0.5382335385649384\n",
      "The R-squared of  ['Baths', 'Year', 'Aircondition', 'SwimmingPool'] is 0.5375794363038624\n",
      "The R-squared of  ['Baths', 'Highway', 'Aircondition', 'SwimmingPool'] is 0.4924651654273876\n",
      "The R-squared of  ['Num_Garage', 'Year', 'Highway', 'Aircondition'] is 0.44080139467729706\n",
      "The R-squared of  ['Num_Garage', 'Year', 'Highway', 'SwimmingPool'] is 0.44707444770482374\n",
      "The R-squared of  ['Num_Garage', 'Year', 'Aircondition', 'SwimmingPool'] is 0.44390884390490826\n",
      "The R-squared of  ['Num_Garage', 'Highway', 'Aircondition', 'SwimmingPool'] is 0.351553418342342\n",
      "The R-squared of  ['Year', 'Highway', 'Aircondition', 'SwimmingPool'] is 0.32508956049852056\n",
      "The R-squared of  ['Size', 'Beds', 'Baths', 'Num_Garage', 'Year'] is 0.7378344489868989\n",
      "The R-squared of  ['Size', 'Beds', 'Baths', 'Num_Garage', 'Highway'] is 0.7156136503747728\n",
      "The R-squared of  ['Size', 'Beds', 'Baths', 'Num_Garage', 'Aircondition'] is 0.716278632991902\n",
      "The R-squared of  ['Size', 'Beds', 'Baths', 'Num_Garage', 'SwimmingPool'] is 0.7156102528179857\n",
      "The R-squared of  ['Size', 'Beds', 'Baths', 'Year', 'Highway'] is 0.7280606243399147\n",
      "The R-squared of  ['Size', 'Beds', 'Baths', 'Year', 'Aircondition'] is 0.7279630812149009\n",
      "The R-squared of  ['Size', 'Beds', 'Baths', 'Year', 'SwimmingPool'] is 0.7281325443381438\n",
      "The R-squared of  ['Size', 'Beds', 'Baths', 'Highway', 'Aircondition'] is 0.6980623092630098\n",
      "The R-squared of  ['Size', 'Beds', 'Baths', 'Highway', 'SwimmingPool'] is 0.6953311273416861\n",
      "The R-squared of  ['Size', 'Beds', 'Baths', 'Aircondition', 'SwimmingPool'] is 0.6980709717748181\n",
      "The R-squared of  ['Size', 'Beds', 'Num_Garage', 'Year', 'Highway'] is 0.7348618973602283\n",
      "The R-squared of  ['Size', 'Beds', 'Num_Garage', 'Year', 'Aircondition'] is 0.734804268499079\n",
      "The R-squared of  ['Size', 'Beds', 'Num_Garage', 'Year', 'SwimmingPool'] is 0.7349082305833035\n",
      "The R-squared of  ['Size', 'Beds', 'Num_Garage', 'Highway', 'Aircondition'] is 0.7064148216414251\n",
      "The R-squared of  ['Size', 'Beds', 'Num_Garage', 'Highway', 'SwimmingPool'] is 0.7048844687352511\n",
      "The R-squared of  ['Size', 'Beds', 'Num_Garage', 'Aircondition', 'SwimmingPool'] is 0.7064992727719449\n",
      "The R-squared of  ['Size', 'Beds', 'Year', 'Highway', 'Aircondition'] is 0.7239239010311098\n",
      "The R-squared of  ['Size', 'Beds', 'Year', 'Highway', 'SwimmingPool'] is 0.7243041830258357\n",
      "The R-squared of  ['Size', 'Beds', 'Year', 'Aircondition', 'SwimmingPool'] is 0.7241502474379584\n",
      "The R-squared of  ['Size', 'Beds', 'Highway', 'Aircondition', 'SwimmingPool'] is 0.6841527645103138\n",
      "The R-squared of  ['Size', 'Baths', 'Num_Garage', 'Year', 'Highway'] is 0.7338734990861497\n",
      "The R-squared of  ['Size', 'Baths', 'Num_Garage', 'Year', 'Aircondition'] is 0.7341528173163181\n",
      "The R-squared of  ['Size', 'Baths', 'Num_Garage', 'Year', 'SwimmingPool'] is 0.7337751949749564\n",
      "The R-squared of  ['Size', 'Baths', 'Num_Garage', 'Highway', 'Aircondition'] is 0.7108920256760638\n",
      "The R-squared of  ['Size', 'Baths', 'Num_Garage', 'Highway', 'SwimmingPool'] is 0.7104347923784275\n",
      "The R-squared of  ['Size', 'Baths', 'Num_Garage', 'Aircondition', 'SwimmingPool'] is 0.7108733682845498\n",
      "The R-squared of  ['Size', 'Baths', 'Year', 'Highway', 'Aircondition'] is 0.7241142021032971\n",
      "The R-squared of  ['Size', 'Baths', 'Year', 'Highway', 'SwimmingPool'] is 0.7241448330862266\n",
      "The R-squared of  ['Size', 'Baths', 'Year', 'Aircondition', 'SwimmingPool'] is 0.7241320278192667\n",
      "The R-squared of  ['Size', 'Baths', 'Highway', 'Aircondition', 'SwimmingPool'] is 0.6922848180229505\n",
      "The R-squared of  ['Size', 'Num_Garage', 'Year', 'Highway', 'Aircondition'] is 0.7326517767037828\n",
      "The R-squared of  ['Size', 'Num_Garage', 'Year', 'Highway', 'SwimmingPool'] is 0.7324715409909242\n",
      "The R-squared of  ['Size', 'Num_Garage', 'Year', 'Aircondition', 'SwimmingPool'] is 0.7326193806101837\n",
      "The R-squared of  ['Size', 'Num_Garage', 'Highway', 'Aircondition', 'SwimmingPool'] is 0.7040696771156028\n",
      "The R-squared of  ['Size', 'Year', 'Highway', 'Aircondition', 'SwimmingPool'] is 0.7219922398317355\n",
      "The R-squared of  ['Beds', 'Baths', 'Num_Garage', 'Year', 'Highway'] is 0.5823983263008528\n",
      "The R-squared of  ['Beds', 'Baths', 'Num_Garage', 'Year', 'Aircondition'] is 0.5826199863833794\n",
      "The R-squared of  ['Beds', 'Baths', 'Num_Garage', 'Year', 'SwimmingPool'] is 0.5819096656315605\n",
      "The R-squared of  ['Beds', 'Baths', 'Num_Garage', 'Highway', 'Aircondition'] is 0.5574716993159146\n",
      "The R-squared of  ['Beds', 'Baths', 'Num_Garage', 'Highway', 'SwimmingPool'] is 0.5575247611020644\n",
      "The R-squared of  ['Beds', 'Baths', 'Num_Garage', 'Aircondition', 'SwimmingPool'] is 0.5571918559311304\n",
      "The R-squared of  ['Beds', 'Baths', 'Year', 'Highway', 'Aircondition'] is 0.5392845956761032\n",
      "The R-squared of  ['Beds', 'Baths', 'Year', 'Highway', 'SwimmingPool'] is 0.5398572739380499\n",
      "The R-squared of  ['Beds', 'Baths', 'Year', 'Aircondition', 'SwimmingPool'] is 0.5392685859213271\n",
      "The R-squared of  ['Beds', 'Baths', 'Highway', 'Aircondition', 'SwimmingPool'] is 0.493379109697042\n",
      "The R-squared of  ['Beds', 'Num_Garage', 'Year', 'Highway', 'Aircondition'] is 0.48365862502089085\n",
      "The R-squared of  ['Beds', 'Num_Garage', 'Year', 'Highway', 'SwimmingPool'] is 0.4865686271845666\n",
      "The R-squared of  ['Beds', 'Num_Garage', 'Year', 'Aircondition', 'SwimmingPool'] is 0.4846274831185394\n",
      "The R-squared of  ['Beds', 'Num_Garage', 'Highway', 'Aircondition', 'SwimmingPool'] is 0.40663534565521187\n",
      "The R-squared of  ['Beds', 'Year', 'Highway', 'Aircondition', 'SwimmingPool'] is 0.3978693237915777\n",
      "The R-squared of  ['Baths', 'Num_Garage', 'Year', 'Highway', 'Aircondition'] is 0.5828172715354223\n",
      "The R-squared of  ['Baths', 'Num_Garage', 'Year', 'Highway', 'SwimmingPool'] is 0.5821362316115856\n",
      "The R-squared of  ['Baths', 'Num_Garage', 'Year', 'Aircondition', 'SwimmingPool'] is 0.5823539106120172\n",
      "The R-squared of  ['Baths', 'Num_Garage', 'Highway', 'Aircondition', 'SwimmingPool'] is 0.5572952325414027\n",
      "The R-squared of  ['Baths', 'Year', 'Highway', 'Aircondition', 'SwimmingPool'] is 0.5383565694881547\n",
      "The R-squared of  ['Num_Garage', 'Year', 'Highway', 'Aircondition', 'SwimmingPool'] is 0.4471122201148813\n",
      "The R-squared of  ['Size', 'Beds', 'Baths', 'Num_Garage', 'Year', 'Highway'] is 0.7380122024186386\n",
      "The R-squared of  ['Size', 'Beds', 'Baths', 'Num_Garage', 'Year', 'Aircondition'] is 0.7381145329514748\n",
      "The R-squared of  ['Size', 'Beds', 'Baths', 'Num_Garage', 'Year', 'SwimmingPool'] is 0.7379682018074016\n",
      "The R-squared of  ['Size', 'Beds', 'Baths', 'Num_Garage', 'Highway', 'Aircondition'] is 0.7162928916085092\n",
      "The R-squared of  ['Size', 'Beds', 'Baths', 'Num_Garage', 'Highway', 'SwimmingPool'] is 0.7156304851199586\n",
      "The R-squared of  ['Size', 'Beds', 'Baths', 'Num_Garage', 'Aircondition', 'SwimmingPool'] is 0.7162886386762601\n",
      "The R-squared of  ['Size', 'Beds', 'Baths', 'Year', 'Highway', 'Aircondition'] is 0.7280913963958053\n",
      "The R-squared of  ['Size', 'Beds', 'Baths', 'Year', 'Highway', 'SwimmingPool'] is 0.7282469638886466\n",
      "The R-squared of  ['Size', 'Beds', 'Baths', 'Year', 'Aircondition', 'SwimmingPool'] is 0.7281668237045648\n",
      "The R-squared of  ['Size', 'Beds', 'Baths', 'Highway', 'Aircondition', 'SwimmingPool'] is 0.6980763170088082\n",
      "The R-squared of  ['Size', 'Beds', 'Num_Garage', 'Year', 'Highway', 'Aircondition'] is 0.7350583171885336\n",
      "The R-squared of  ['Size', 'Beds', 'Num_Garage', 'Year', 'Highway', 'SwimmingPool'] is 0.7351246181409292\n",
      "The R-squared of  ['Size', 'Beds', 'Num_Garage', 'Year', 'Aircondition', 'SwimmingPool'] is 0.7351116870777323\n",
      "The R-squared of  ['Size', 'Beds', 'Num_Garage', 'Highway', 'Aircondition', 'SwimmingPool'] is 0.70652117804628\n",
      "The R-squared of  ['Size', 'Beds', 'Year', 'Highway', 'Aircondition', 'SwimmingPool'] is 0.7243095799770223\n",
      "The R-squared of  ['Size', 'Baths', 'Num_Garage', 'Year', 'Highway', 'Aircondition'] is 0.7343824783678383\n",
      "The R-squared of  ['Size', 'Baths', 'Num_Garage', 'Year', 'Highway', 'SwimmingPool'] is 0.7339648708571573\n",
      "The R-squared of  ['Size', 'Baths', 'Num_Garage', 'Year', 'Aircondition', 'SwimmingPool'] is 0.7342795831076485\n",
      "The R-squared of  ['Size', 'Baths', 'Num_Garage', 'Highway', 'Aircondition', 'SwimmingPool'] is 0.7108934575554658\n",
      "The R-squared of  ['Size', 'Baths', 'Year', 'Highway', 'Aircondition', 'SwimmingPool'] is 0.7242751572989725\n",
      "The R-squared of  ['Size', 'Num_Garage', 'Year', 'Highway', 'Aircondition', 'SwimmingPool'] is 0.732871582462671\n",
      "The R-squared of  ['Beds', 'Baths', 'Num_Garage', 'Year', 'Highway', 'Aircondition'] is 0.5836734039625673\n",
      "The R-squared of  ['Beds', 'Baths', 'Num_Garage', 'Year', 'Highway', 'SwimmingPool'] is 0.582817726672324\n",
      "The R-squared of  ['Beds', 'Baths', 'Num_Garage', 'Year', 'Aircondition', 'SwimmingPool'] is 0.5831640056363698\n",
      "The R-squared of  ['Beds', 'Baths', 'Num_Garage', 'Highway', 'Aircondition', 'SwimmingPool'] is 0.5576312426121272\n",
      "The R-squared of  ['Beds', 'Baths', 'Year', 'Highway', 'Aircondition', 'SwimmingPool'] is 0.5400601409054455\n",
      "The R-squared of  ['Beds', 'Num_Garage', 'Year', 'Highway', 'Aircondition', 'SwimmingPool'] is 0.48723915127988915\n",
      "The R-squared of  ['Baths', 'Num_Garage', 'Year', 'Highway', 'Aircondition', 'SwimmingPool'] is 0.5833593428289253\n",
      "The R-squared of  ['Size', 'Beds', 'Baths', 'Num_Garage', 'Year', 'Highway', 'Aircondition'] is 0.7383163911768968\n",
      "The R-squared of  ['Size', 'Beds', 'Baths', 'Num_Garage', 'Year', 'Highway', 'SwimmingPool'] is 0.7381376045969549\n",
      "The R-squared of  ['Size', 'Beds', 'Baths', 'Num_Garage', 'Year', 'Aircondition', 'SwimmingPool'] is 0.738272042359803\n",
      "The R-squared of  ['Size', 'Beds', 'Baths', 'Num_Garage', 'Highway', 'Aircondition', 'SwimmingPool'] is 0.7163022173508375\n",
      "The R-squared of  ['Size', 'Beds', 'Baths', 'Year', 'Highway', 'Aircondition', 'SwimmingPool'] is 0.7282874220932865\n",
      "The R-squared of  ['Size', 'Beds', 'Num_Garage', 'Year', 'Highway', 'Aircondition', 'SwimmingPool'] is 0.735350778739164\n",
      "The R-squared of  ['Size', 'Baths', 'Num_Garage', 'Year', 'Highway', 'Aircondition', 'SwimmingPool'] is 0.7345010441856356\n",
      "The R-squared of  ['Beds', 'Baths', 'Num_Garage', 'Year', 'Highway', 'Aircondition', 'SwimmingPool'] is 0.5841788317015608\n",
      "The R-squared of  ['Size', 'Beds', 'Baths', 'Num_Garage', 'Year', 'Highway', 'Aircondition', 'SwimmingPool'] is 0.73846521587917\n"
     ]
    }
   ],
   "source": [
    "for j in all_combinations:\n",
    "    if len(j) >1:\n",
    "        x = df_realstate[j]\n",
    "        y = df_realstate['SalePrice']\n",
    "        x = sm.add_constant(x)\n",
    "        model_j = sm.OLS(y,x).fit()\n",
    "        print('The R-squared of ', j, 'is',model_j.rsquared)"
   ],
   "metadata": {
    "collapsed": false,
    "pycharm": {
     "name": "#%%\n"
    }
   }
  },
  {
   "cell_type": "code",
   "execution_count": 62,
   "outputs": [
    {
     "name": "stdout",
     "output_type": "stream",
     "text": [
      "[['Size', 'Highway'], ['Beds', 'Highway'], ['Baths', 'Highway'], ['Num_Garage', 'Highway'], ['Year', 'Highway'], ['Highway', 'Aircondition'], ['Highway', 'SwimmingPool']]\n"
     ]
    }
   ],
   "source": [
    "v_2_list = []\n",
    "for j_x in all_combinations:\n",
    "    if (len(j_x) == 2) and ( j_x[0]== 'Highway' or j_x[1] == 'Highway'):\n",
    "        v_2_list.append(j_x)\n",
    "print(v_2_list)"
   ],
   "metadata": {
    "collapsed": false,
    "pycharm": {
     "name": "#%%\n"
    }
   }
  },
  {
   "cell_type": "code",
   "execution_count": 63,
   "outputs": [
    {
     "name": "stdout",
     "output_type": "stream",
     "text": [
      "[0.6769440057049589, 0.18764532620894303, 0.4884348605105179, 0.3340774915265786, 0.31047197349391376, 0.08445731372028142, 0.023918041187491412]\n"
     ]
    }
   ],
   "source": [
    "R2_v_2_list = []\n",
    "for v_2 in v_2_list :\n",
    "    x = df_realstate[v_2]\n",
    "    y = df_realstate['SalePrice']\n",
    "    x = sm.add_constant(x)\n",
    "    model = sm.OLS(y,x).fit()\n",
    "    R2_v_2 = model.rsquared\n",
    "    R2_v_2_list.append(R2_v_2)\n",
    "print(R2_v_2_list)"
   ],
   "metadata": {
    "collapsed": false,
    "pycharm": {
     "name": "#%%\n"
    }
   }
  },
  {
   "cell_type": "code",
   "execution_count": 64,
   "outputs": [
    {
     "data": {
      "text/plain": "0.6769440057049589"
     },
     "execution_count": 64,
     "metadata": {},
     "output_type": "execute_result"
    }
   ],
   "source": [
    "max(R2_v_2_list)"
   ],
   "metadata": {
    "collapsed": false,
    "pycharm": {
     "name": "#%%\n"
    }
   }
  },
  {
   "cell_type": "markdown",
   "source": [
    "###### The best R2 value is of 2 elements is 0.677 from the  combination ['Size', 'Highway']."
   ],
   "metadata": {
    "collapsed": false,
    "pycharm": {
     "name": "#%% md\n"
    }
   }
  },
  {
   "cell_type": "code",
   "execution_count": 65,
   "outputs": [
    {
     "name": "stdout",
     "output_type": "stream",
     "text": [
      "[['Size', 'Beds', 'Highway'], ['Size', 'Baths', 'Highway'], ['Size', 'Num_Garage', 'Highway'], ['Size', 'Year', 'Highway'], ['Size', 'Highway', 'Aircondition'], ['Size', 'Highway', 'SwimmingPool'], ['Beds', 'Baths', 'Highway'], ['Beds', 'Num_Garage', 'Highway'], ['Beds', 'Year', 'Highway'], ['Beds', 'Highway', 'Aircondition'], ['Beds', 'Highway', 'SwimmingPool'], ['Baths', 'Num_Garage', 'Highway'], ['Baths', 'Year', 'Highway'], ['Baths', 'Highway', 'Aircondition'], ['Baths', 'Highway', 'SwimmingPool'], ['Num_Garage', 'Year', 'Highway'], ['Num_Garage', 'Highway', 'Aircondition'], ['Num_Garage', 'Highway', 'SwimmingPool'], ['Year', 'Highway', 'Aircondition'], ['Year', 'Highway', 'SwimmingPool'], ['Highway', 'Aircondition', 'SwimmingPool']]\n"
     ]
    }
   ],
   "source": [
    "v_3_list = []\n",
    "for j_x in all_combinations:\n",
    "    if (len(j_x) == 3) and ( j_x[0]== 'Highway' or j_x[1] == 'Highway' or j_x[2] == 'Highway'):\n",
    "         v_3_list.append(j_x)\n",
    "print(v_3_list)"
   ],
   "metadata": {
    "collapsed": false,
    "pycharm": {
     "name": "#%%\n"
    }
   }
  },
  {
   "cell_type": "code",
   "execution_count": 67,
   "outputs": [
    {
     "name": "stdout",
     "output_type": "stream",
     "text": [
      "[0.6784139946330221, 0.6899684983100297, 0.7027064764555271, 0.7216528063931993, 0.6818328539492555, 0.6771594187512882, 0.4896393211995279, 0.3987467560155523, 0.39164991381068415, 0.22323085182418456, 0.19567540817912665, 0.5569792655980506, 0.5374242857040246, 0.49218657787731623, 0.488811524889076, 0.44080104330913594, 0.3457824453575691, 0.34102846903662754, 0.31344675109637976, 0.323027032535006, 0.09833215132902584]\n"
     ]
    }
   ],
   "source": [
    "R2_v_3_list = []\n",
    "for v_3 in v_3_list :\n",
    "    x = df_realstate[v_3]\n",
    "    y = df_realstate['SalePrice']\n",
    "    x = sm.add_constant(x)\n",
    "    model = sm.OLS(y,x).fit()\n",
    "    R2 = model.rsquared\n",
    "    R2_v_3_list.append(R2)\n",
    "print(R2_v_3_list)"
   ],
   "metadata": {
    "collapsed": false,
    "pycharm": {
     "name": "#%%\n"
    }
   }
  },
  {
   "cell_type": "code",
   "execution_count": 68,
   "outputs": [
    {
     "data": {
      "text/plain": "0.7216528063931993"
     },
     "execution_count": 68,
     "metadata": {},
     "output_type": "execute_result"
    }
   ],
   "source": [
    "max(R2_v_3_list)"
   ],
   "metadata": {
    "collapsed": false,
    "pycharm": {
     "name": "#%%\n"
    }
   }
  },
  {
   "cell_type": "markdown",
   "source": [
    "###### The best R2 value of 3 elements is 0,72 from the combination of ['Size', 'Year', 'Highway']"
   ],
   "metadata": {
    "collapsed": false,
    "pycharm": {
     "name": "#%% md\n"
    }
   }
  },
  {
   "cell_type": "code",
   "execution_count": 71,
   "outputs": [
    {
     "name": "stdout",
     "output_type": "stream",
     "text": [
      "[['Size', 'Beds', 'Baths', 'Highway'], ['Size', 'Beds', 'Num_Garage', 'Highway'], ['Size', 'Beds', 'Year', 'Highway'], ['Size', 'Beds', 'Highway', 'Aircondition'], ['Size', 'Beds', 'Highway', 'SwimmingPool'], ['Size', 'Baths', 'Num_Garage', 'Highway'], ['Size', 'Baths', 'Year', 'Highway'], ['Size', 'Baths', 'Highway', 'Aircondition'], ['Size', 'Baths', 'Highway', 'SwimmingPool'], ['Size', 'Num_Garage', 'Year', 'Highway'], ['Size', 'Num_Garage', 'Highway', 'Aircondition'], ['Size', 'Num_Garage', 'Highway', 'SwimmingPool'], ['Size', 'Year', 'Highway', 'Aircondition'], ['Size', 'Year', 'Highway', 'SwimmingPool'], ['Size', 'Highway', 'Aircondition', 'SwimmingPool'], ['Beds', 'Baths', 'Num_Garage', 'Highway'], ['Beds', 'Baths', 'Year', 'Highway'], ['Beds', 'Baths', 'Highway', 'Aircondition'], ['Beds', 'Baths', 'Highway', 'SwimmingPool'], ['Beds', 'Num_Garage', 'Year', 'Highway'], ['Beds', 'Num_Garage', 'Highway', 'Aircondition'], ['Beds', 'Num_Garage', 'Highway', 'SwimmingPool'], ['Beds', 'Year', 'Highway', 'Aircondition'], ['Beds', 'Year', 'Highway', 'SwimmingPool'], ['Beds', 'Highway', 'Aircondition', 'SwimmingPool'], ['Baths', 'Num_Garage', 'Year', 'Highway'], ['Baths', 'Num_Garage', 'Highway', 'Aircondition'], ['Baths', 'Num_Garage', 'Highway', 'SwimmingPool'], ['Baths', 'Year', 'Highway', 'Aircondition'], ['Baths', 'Year', 'Highway', 'SwimmingPool'], ['Baths', 'Highway', 'Aircondition', 'SwimmingPool'], ['Num_Garage', 'Year', 'Highway', 'Aircondition'], ['Num_Garage', 'Year', 'Highway', 'SwimmingPool'], ['Num_Garage', 'Highway', 'Aircondition', 'SwimmingPool'], ['Year', 'Highway', 'Aircondition', 'SwimmingPool']]\n"
     ]
    }
   ],
   "source": [
    "v_4_list = []\n",
    "for j_x in all_combinations:\n",
    "    if (len(j_x) == 4) and ( j_x[0]== 'Highway' or j_x[1] == 'Highway'or j_x[2] == 'Highway'or j_x[3] == 'Highway'):\n",
    "        v_4_list.append(j_x)\n",
    "print(v_4_list)"
   ],
   "metadata": {
    "collapsed": false,
    "pycharm": {
     "name": "#%%\n"
    }
   }
  },
  {
   "cell_type": "code",
   "execution_count": 72,
   "outputs": [
    {
     "name": "stdout",
     "output_type": "stream",
     "text": [
      "[0.6952956936197449, 0.7047304303835444, 0.7239227935324186, 0.6839948854839694, 0.6786936836650278, 0.7104303903537226, 0.7240004313356405, 0.6922814762733274, 0.6899839124219991, 0.7322884866330395, 0.704004965841309, 0.7028078896408622, 0.7216886806976104, 0.7219405024263292, 0.6819410328638049, 0.5573545023996069, 0.5391247598933238, 0.493132371312059, 0.48997064861325257, 0.4831587642965136, 0.4037686372499719, 0.40204148287261743, 0.3918958542772293, 0.3977604018987586, 0.2290421862598494, 0.5816818542065418, 0.5571205343081027, 0.557166856582747, 0.5375116062196239, 0.5382335385649384, 0.4924651654273876, 0.44080139467729706, 0.44707444770482374, 0.351553418342342, 0.32508956049852056]\n"
     ]
    }
   ],
   "source": [
    "R2_v_4_list = []\n",
    "for v_4 in v_4_list :\n",
    "    x = df_realstate[v_4]\n",
    "    y = df_realstate['SalePrice']\n",
    "    x = sm.add_constant(x)\n",
    "    model = sm.OLS(y,x).fit()\n",
    "    R2 = model.rsquared\n",
    "    R2_v_4_list.append(R2)\n",
    "print(R2_v_4_list)"
   ],
   "metadata": {
    "collapsed": false,
    "pycharm": {
     "name": "#%%\n"
    }
   }
  },
  {
   "cell_type": "code",
   "execution_count": 81,
   "outputs": [
    {
     "data": {
      "text/plain": "0.7322884866330395"
     },
     "execution_count": 81,
     "metadata": {},
     "output_type": "execute_result"
    }
   ],
   "source": [
    "max(R2_v_4_list)"
   ],
   "metadata": {
    "collapsed": false,
    "pycharm": {
     "name": "#%%\n"
    }
   }
  },
  {
   "cell_type": "code",
   "execution_count": 82,
   "outputs": [
    {
     "data": {
      "text/plain": "9"
     },
     "execution_count": 82,
     "metadata": {},
     "output_type": "execute_result"
    }
   ],
   "source": [
    "R2_v_4_list.index(max(R2_v_4_list))"
   ],
   "metadata": {
    "collapsed": false,
    "pycharm": {
     "name": "#%%\n"
    }
   }
  },
  {
   "cell_type": "code",
   "execution_count": 83,
   "outputs": [
    {
     "data": {
      "text/plain": "['Size', 'Num_Garage', 'Year', 'Highway']"
     },
     "execution_count": 83,
     "metadata": {},
     "output_type": "execute_result"
    }
   ],
   "source": [
    "v_4_list[9]"
   ],
   "metadata": {
    "collapsed": false,
    "pycharm": {
     "name": "#%%\n"
    }
   }
  },
  {
   "cell_type": "markdown",
   "source": [
    "###### The best R2 value of 4 elements with Highway variable is 0,7322 from the combination ['Size', 'Num_Garage, 'Year', 'Highway']. Compare with 3 resualt of 2, 3 and 4 elements with Highway variable, the last one have the best R2 value."
   ],
   "metadata": {
    "collapsed": false,
    "pycharm": {
     "name": "#%% md\n"
    }
   }
  },
  {
   "cell_type": "code",
   "execution_count": 91,
   "outputs": [
    {
     "data": {
      "text/plain": "<class 'statsmodels.iolib.summary.Summary'>\n\"\"\"\n                            OLS Regression Results                            \n==============================================================================\nDep. Variable:              SalePrice   R-squared:                       0.732\nModel:                            OLS   Adj. R-squared:                  0.730\nMethod:                 Least Squares   F-statistic:                     352.9\nDate:                Sun, 24 Apr 2022   Prob (F-statistic):          4.14e-146\nTime:                        19:26:59   Log-Likelihood:                -2961.1\nNo. Observations:                 521   AIC:                             5932.\nDf Residuals:                     516   BIC:                             5954.\nDf Model:                           4                                         \nCovariance Type:            nonrobust                                         \n==============================================================================\n                 coef    std err          t      P>|t|      [0.025      0.975]\n------------------------------------------------------------------------------\nIntercept  -3155.9269    402.035     -7.850      0.000   -3945.755   -2366.099\nSize         128.4870      5.421     23.703      0.000     117.838     139.136\nNum_Garage    26.9101      5.943      4.528      0.000      15.234      38.587\nYear           1.5694      0.208      7.551      0.000       1.161       1.978\nHighway      -14.6938     21.866     -0.672      0.502     -57.651      28.264\n==============================================================================\nOmnibus:                      154.452   Durbin-Watson:                   1.347\nProb(Omnibus):                  0.000   Jarque-Bera (JB):              592.502\nSkew:                           1.310   Prob(JB):                    2.19e-129\nKurtosis:                       7.520   Cond. No.                     2.53e+05\n==============================================================================\n\nNotes:\n[1] Standard Errors assume that the covariance matrix of the errors is correctly specified.\n[2] The condition number is large, 2.53e+05. This might indicate that there are\nstrong multicollinearity or other numerical problems.\n\"\"\"",
      "text/html": "<table class=\"simpletable\">\n<caption>OLS Regression Results</caption>\n<tr>\n  <th>Dep. Variable:</th>        <td>SalePrice</td>    <th>  R-squared:         </th> <td>   0.732</td> \n</tr>\n<tr>\n  <th>Model:</th>                   <td>OLS</td>       <th>  Adj. R-squared:    </th> <td>   0.730</td> \n</tr>\n<tr>\n  <th>Method:</th>             <td>Least Squares</td>  <th>  F-statistic:       </th> <td>   352.9</td> \n</tr>\n<tr>\n  <th>Date:</th>             <td>Sun, 24 Apr 2022</td> <th>  Prob (F-statistic):</th> <td>4.14e-146</td>\n</tr>\n<tr>\n  <th>Time:</th>                 <td>19:26:59</td>     <th>  Log-Likelihood:    </th> <td> -2961.1</td> \n</tr>\n<tr>\n  <th>No. Observations:</th>      <td>   521</td>      <th>  AIC:               </th> <td>   5932.</td> \n</tr>\n<tr>\n  <th>Df Residuals:</th>          <td>   516</td>      <th>  BIC:               </th> <td>   5954.</td> \n</tr>\n<tr>\n  <th>Df Model:</th>              <td>     4</td>      <th>                     </th>     <td> </td>    \n</tr>\n<tr>\n  <th>Covariance Type:</th>      <td>nonrobust</td>    <th>                     </th>     <td> </td>    \n</tr>\n</table>\n<table class=\"simpletable\">\n<tr>\n       <td></td>         <th>coef</th>     <th>std err</th>      <th>t</th>      <th>P>|t|</th>  <th>[0.025</th>    <th>0.975]</th>  \n</tr>\n<tr>\n  <th>Intercept</th>  <td>-3155.9269</td> <td>  402.035</td> <td>   -7.850</td> <td> 0.000</td> <td>-3945.755</td> <td>-2366.099</td>\n</tr>\n<tr>\n  <th>Size</th>       <td>  128.4870</td> <td>    5.421</td> <td>   23.703</td> <td> 0.000</td> <td>  117.838</td> <td>  139.136</td>\n</tr>\n<tr>\n  <th>Num_Garage</th> <td>   26.9101</td> <td>    5.943</td> <td>    4.528</td> <td> 0.000</td> <td>   15.234</td> <td>   38.587</td>\n</tr>\n<tr>\n  <th>Year</th>       <td>    1.5694</td> <td>    0.208</td> <td>    7.551</td> <td> 0.000</td> <td>    1.161</td> <td>    1.978</td>\n</tr>\n<tr>\n  <th>Highway</th>    <td>  -14.6938</td> <td>   21.866</td> <td>   -0.672</td> <td> 0.502</td> <td>  -57.651</td> <td>   28.264</td>\n</tr>\n</table>\n<table class=\"simpletable\">\n<tr>\n  <th>Omnibus:</th>       <td>154.452</td> <th>  Durbin-Watson:     </th> <td>   1.347</td> \n</tr>\n<tr>\n  <th>Prob(Omnibus):</th> <td> 0.000</td>  <th>  Jarque-Bera (JB):  </th> <td> 592.502</td> \n</tr>\n<tr>\n  <th>Skew:</th>          <td> 1.310</td>  <th>  Prob(JB):          </th> <td>2.19e-129</td>\n</tr>\n<tr>\n  <th>Kurtosis:</th>      <td> 7.520</td>  <th>  Cond. No.          </th> <td>2.53e+05</td> \n</tr>\n</table><br/><br/>Notes:<br/>[1] Standard Errors assume that the covariance matrix of the errors is correctly specified.<br/>[2] The condition number is large, 2.53e+05. This might indicate that there are<br/>strong multicollinearity or other numerical problems."
     },
     "execution_count": 91,
     "metadata": {},
     "output_type": "execute_result"
    }
   ],
   "source": [
    "model_best_R2 = smf.ols(formula='SalePrice ~ Size + Num_Garage + Year + Highway',\n",
    "                        data=df_realstate).fit()\n",
    "model = model_best_R2.summary()\n",
    "model"
   ],
   "metadata": {
    "collapsed": false,
    "pycharm": {
     "name": "#%%\n"
    }
   }
  },
  {
   "cell_type": "code",
   "execution_count": 92,
   "outputs": [
    {
     "ename": "AttributeError",
     "evalue": "'Summary' object has no attribute 'to_txt'",
     "output_type": "error",
     "traceback": [
      "\u001B[0;31m---------------------------------------------------------------------------\u001B[0m",
      "\u001B[0;31mAttributeError\u001B[0m                            Traceback (most recent call last)",
      "Input \u001B[0;32mIn [92]\u001B[0m, in \u001B[0;36m<cell line: 1>\u001B[0;34m()\u001B[0m\n\u001B[0;32m----> 1\u001B[0m \u001B[43mmodel\u001B[49m\u001B[38;5;241;43m.\u001B[39;49m\u001B[43mto_txt\u001B[49m(\u001B[38;5;124m'\u001B[39m\u001B[38;5;124mQ2_b.txt\u001B[39m\u001B[38;5;124m'\u001B[39m)\n",
      "\u001B[0;31mAttributeError\u001B[0m: 'Summary' object has no attribute 'to_txt'"
     ]
    }
   ],
   "source": [
    "model.to_txt('Q2_b.txt')"
   ],
   "metadata": {
    "collapsed": false,
    "pycharm": {
     "name": "#%%\n"
    }
   }
  },
  {
   "cell_type": "code",
   "execution_count": 30,
   "outputs": [],
   "source": [],
   "metadata": {
    "collapsed": false,
    "pycharm": {
     "name": "#%%\n"
    }
   }
  }
 ],
 "metadata": {
  "kernelspec": {
   "display_name": "Python 3",
   "language": "python",
   "name": "python3"
  },
  "language_info": {
   "codemirror_mode": {
    "name": "ipython",
    "version": 2
   },
   "file_extension": ".py",
   "mimetype": "text/x-python",
   "name": "python",
   "nbconvert_exporter": "python",
   "pygments_lexer": "ipython2",
   "version": "2.7.6"
  }
 },
 "nbformat": 4,
 "nbformat_minor": 0
}