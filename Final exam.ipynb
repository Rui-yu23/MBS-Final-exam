{
 "cells": [
  {
   "cell_type": "markdown",
   "source": [
    "# Team project task"
   ],
   "metadata": {
    "collapsed": false,
    "pycharm": {
     "name": "#%% md\n"
    }
   }
  },
  {
   "cell_type": "markdown",
   "source": [
    "Q1. Descriptive analysis of data is essential for business analytics"
   ],
   "metadata": {
    "collapsed": false,
    "pycharm": {
     "name": "#%% md\n"
    }
   }
  },
  {
   "cell_type": "markdown",
   "source": [
    "In France, metropole is composed of a city and its neighboring towns. Please work on the dataset, Bordeaux_Metrople.csv and postalcode.txt\n",
    "Bordeaux_Metrople.csv contains the following columns:\n",
    "• date_mutation: date of transaction\n",
    "• valeure_fonciere: property value\n",
    "• code_postal: postal code\n",
    "• section: section\n",
    "• type_local: type of property (apartment or house)\n",
    "• surface_relle_bati: size of property (in m2)\n",
    "• number_pieces_principales: number of rooms\n",
    "• surface_terrain: size of land (in m2)\n",
    "In postalcode.txt, there are two columns, i.e., name of city and its postal code."
   ],
   "metadata": {
    "collapsed": false,
    "pycharm": {
     "name": "#%% md\n"
    }
   }
  },
  {
   "cell_type": "markdown",
   "source": [
    "Question (A) Please write a Python code to read all postal codes and save them in a list."
   ],
   "metadata": {
    "collapsed": false,
    "pycharm": {
     "name": "#%% md\n"
    }
   }
  },
  {
   "cell_type": "code",
   "execution_count": 2,
   "outputs": [
    {
     "name": "stdout",
     "output_type": "stream",
     "text": [
      "['Bordeaux,33000\\n', 'Ambares-et-Lagrave,33440\\n', 'Ambes,33810\\n', 'Artigues-pres-Bordeaux,33370\\n', 'Brassens,33530\\n', 'Begles,33130\\n', 'Blanquefort,33290\\n', 'Bruges,33520\\n', 'Carbon-Blanc,33560\\n', 'Cenon,33150\\n', 'Eysines,33320\\n', 'Floriac,33270\\n', 'Gradignan,33170\\n', 'Le Bouscat,33110\\n', 'Le Haillan,33185\\n', 'Lormont,33310\\n', 'Martignas-sur-Jalle,33127\\n', 'Merignac,33700\\n', 'Pessac,33600\\n', 'Saint-Aubin-de-Medoc,33160\\n', 'Talence,33400\\n', 'Ornon,33140']\n"
     ]
    }
   ],
   "source": [
    "# open the txt file\n",
    "f = open('/Users/ruiyu/Desktop/Python/Code/pythonCoursMBS/exam/postalcode.txt', 'r')\n",
    "f_data = f.readlines()\n",
    "print(f_data)"
   ],
   "metadata": {
    "collapsed": false,
    "pycharm": {
     "name": "#%%\n"
    }
   }
  },
  {
   "cell_type": "code",
   "execution_count": 3,
   "outputs": [
    {
     "name": "stdout",
     "output_type": "stream",
     "text": [
      "['33000', '33440', '33810', '33370', '33530', '33130', '33290', '33520', '33560', '33150', '33320', '33270', '33170', '33110', '33185', '33310', '33127', '33700', '33600', '33160', '33400', '33140']\n"
     ]
    }
   ],
   "source": [
    "# Create an empty list and get the postal code\n",
    "postal_codes = []\n",
    "for line in f_data:\n",
    "   c, p = line.strip().split(\",\")\n",
    "   postal_codes.append(p)\n",
    "print(postal_codes)"
   ],
   "metadata": {
    "collapsed": false,
    "pycharm": {
     "name": "#%%\n"
    }
   }
  },
  {
   "cell_type": "code",
   "execution_count": 2,
   "outputs": [
    {
     "data": {
      "text/plain": "  date_mutation  valeur_fonciere  code_postal section   type_local  \\\n0      2014/2/6         155000.0        33000      KX  Appartement   \n1     2014/6/11         286000.0        33000      LY       Maison   \n2    2014/10/31         200000.0        33000      HW       Maison   \n3    2014/10/31         200000.0        33000      HW  Appartement   \n4    2014/10/31         200000.0        33000      HW  Appartement   \n\n   surface_relle_bati  nombre_pieces_principales  surface_terrain  \n0                  32                          2              NaN  \n1                 105                          4            132.0  \n2                  30                          1              NaN  \n3                  32                          2              NaN  \n4                  28                          2              NaN  ",
      "text/html": "<div>\n<style scoped>\n    .dataframe tbody tr th:only-of-type {\n        vertical-align: middle;\n    }\n\n    .dataframe tbody tr th {\n        vertical-align: top;\n    }\n\n    .dataframe thead th {\n        text-align: right;\n    }\n</style>\n<table border=\"1\" class=\"dataframe\">\n  <thead>\n    <tr style=\"text-align: right;\">\n      <th></th>\n      <th>date_mutation</th>\n      <th>valeur_fonciere</th>\n      <th>code_postal</th>\n      <th>section</th>\n      <th>type_local</th>\n      <th>surface_relle_bati</th>\n      <th>nombre_pieces_principales</th>\n      <th>surface_terrain</th>\n    </tr>\n  </thead>\n  <tbody>\n    <tr>\n      <th>0</th>\n      <td>2014/2/6</td>\n      <td>155000.0</td>\n      <td>33000</td>\n      <td>KX</td>\n      <td>Appartement</td>\n      <td>32</td>\n      <td>2</td>\n      <td>NaN</td>\n    </tr>\n    <tr>\n      <th>1</th>\n      <td>2014/6/11</td>\n      <td>286000.0</td>\n      <td>33000</td>\n      <td>LY</td>\n      <td>Maison</td>\n      <td>105</td>\n      <td>4</td>\n      <td>132.0</td>\n    </tr>\n    <tr>\n      <th>2</th>\n      <td>2014/10/31</td>\n      <td>200000.0</td>\n      <td>33000</td>\n      <td>HW</td>\n      <td>Maison</td>\n      <td>30</td>\n      <td>1</td>\n      <td>NaN</td>\n    </tr>\n    <tr>\n      <th>3</th>\n      <td>2014/10/31</td>\n      <td>200000.0</td>\n      <td>33000</td>\n      <td>HW</td>\n      <td>Appartement</td>\n      <td>32</td>\n      <td>2</td>\n      <td>NaN</td>\n    </tr>\n    <tr>\n      <th>4</th>\n      <td>2014/10/31</td>\n      <td>200000.0</td>\n      <td>33000</td>\n      <td>HW</td>\n      <td>Appartement</td>\n      <td>28</td>\n      <td>2</td>\n      <td>NaN</td>\n    </tr>\n  </tbody>\n</table>\n</div>"
     },
     "execution_count": 2,
     "metadata": {},
     "output_type": "execute_result"
    }
   ],
   "source": [
    "import pandas as pd\n",
    "# open de CSV file\n",
    "df_bordeaux = pd.read_csv('/Users/ruiyu/Desktop/Python'\n",
    "                          '/Code/pythonCoursMBS/exam/Bordeaux_Metropole.csv')\n",
    "df_bordeaux.head()"
   ],
   "metadata": {
    "collapsed": false,
    "pycharm": {
     "name": "#%%\n"
    }
   }
  },
  {
   "cell_type": "code",
   "execution_count": 5,
   "outputs": [
    {
     "name": "stdout",
     "output_type": "stream",
     "text": [
      "<class 'pandas.core.frame.DataFrame'>\n",
      "RangeIndex: 76437 entries, 0 to 76436\n",
      "Data columns (total 8 columns):\n",
      " #   Column                     Non-Null Count  Dtype  \n",
      "---  ------                     --------------  -----  \n",
      " 0   date_mutation              76437 non-null  object \n",
      " 1   valeur_fonciere            76437 non-null  float64\n",
      " 2   code_postal                76437 non-null  int64  \n",
      " 3   section                    76437 non-null  object \n",
      " 4   type_local                 76437 non-null  object \n",
      " 5   surface_relle_bati         76437 non-null  int64  \n",
      " 6   nombre_pieces_principales  76437 non-null  int64  \n",
      " 7   surface_terrain            33797 non-null  float64\n",
      "dtypes: float64(2), int64(3), object(3)\n",
      "memory usage: 4.7+ MB\n"
     ]
    }
   ],
   "source": [
    "df_bordeaux.info()"
   ],
   "metadata": {
    "collapsed": false,
    "pycharm": {
     "name": "#%%\n"
    }
   }
  },
  {
   "cell_type": "markdown",
   "source": [
    "Question (B) Continue with (A). Please export descriptive statistics of price and size of apartments (i.e., mean, std, min, max, median, Q25, Q75) for every postal code (that you read in A) as a csv file (e.g., 33110.csv, 33440.csv and so on) in Bordeaux Metropole."
   ],
   "metadata": {
    "collapsed": false,
    "pycharm": {
     "name": "#%% md\n"
    }
   }
  },
  {
   "cell_type": "code",
   "execution_count": 6,
   "outputs": [
    {
     "name": "stdout",
     "output_type": "stream",
     "text": [
      "Postal code is: 33000\n",
      "count    16831.000000\n",
      "mean        65.326065\n",
      "std         48.261400\n",
      "min          4.000000\n",
      "25%         34.000000\n",
      "50%         52.000000\n",
      "75%         80.000000\n",
      "max        750.000000\n",
      "Name: surface_relle_bati, dtype: float64\n",
      "Postal code is: 33440\n",
      "count    1478.000000\n",
      "mean       89.186062\n",
      "std        34.652798\n",
      "min        20.000000\n",
      "25%        67.000000\n",
      "50%        88.000000\n",
      "75%       106.000000\n",
      "max       416.000000\n",
      "Name: surface_relle_bati, dtype: float64\n",
      "Postal code is: 33810\n",
      "count    305.000000\n",
      "mean      84.219672\n",
      "std       36.042021\n",
      "min       24.000000\n",
      "25%       65.000000\n",
      "50%       79.000000\n",
      "75%      102.000000\n",
      "max      230.000000\n",
      "Name: surface_relle_bati, dtype: float64\n",
      "Postal code is: 33370\n",
      "count    2363.000000\n",
      "mean       98.383411\n",
      "std        46.915839\n",
      "min        15.000000\n",
      "25%        66.000000\n",
      "50%        91.000000\n",
      "75%       119.000000\n",
      "max       580.000000\n",
      "Name: surface_relle_bati, dtype: float64\n",
      "Postal code is: 33530\n",
      "count    548.000000\n",
      "mean      76.914234\n",
      "std       34.428289\n",
      "min       18.000000\n",
      "25%       48.000000\n",
      "50%       71.000000\n",
      "75%       93.000000\n",
      "max      270.000000\n",
      "Name: surface_relle_bati, dtype: float64\n",
      "Postal code is: 33130\n",
      "count    3924.000000\n",
      "mean       67.386340\n",
      "std        29.607055\n",
      "min         9.000000\n",
      "25%        46.000000\n",
      "50%        64.000000\n",
      "75%        82.000000\n",
      "max       500.000000\n",
      "Name: surface_relle_bati, dtype: float64\n",
      "Postal code is: 33290\n",
      "count    2923.000000\n",
      "mean       92.240164\n",
      "std        41.885111\n",
      "min         2.000000\n",
      "25%        64.000000\n",
      "50%        85.000000\n",
      "75%       112.000000\n",
      "max       544.000000\n",
      "Name: surface_relle_bati, dtype: float64\n",
      "Postal code is: 33520\n",
      "count    2200.000000\n",
      "mean       74.067727\n",
      "std        34.502196\n",
      "min        14.000000\n",
      "25%        51.750000\n",
      "50%        65.000000\n",
      "75%        87.000000\n",
      "max       380.000000\n",
      "Name: surface_relle_bati, dtype: float64\n",
      "Postal code is: 33560\n",
      "count    1089.000000\n",
      "mean       90.750230\n",
      "std        44.337257\n",
      "min        11.000000\n",
      "25%        67.000000\n",
      "50%        85.000000\n",
      "75%       108.000000\n",
      "max       370.000000\n",
      "Name: surface_relle_bati, dtype: float64\n",
      "Postal code is: 33150\n",
      "count    3144.000000\n",
      "mean       63.206425\n",
      "std        29.151196\n",
      "min        13.000000\n",
      "25%        43.000000\n",
      "50%        61.000000\n",
      "75%        75.000000\n",
      "max       378.000000\n",
      "Name: surface_relle_bati, dtype: float64\n",
      "Postal code is: 33320\n",
      "count    3040.000000\n",
      "mean       84.584211\n",
      "std        38.696763\n",
      "min        13.000000\n",
      "25%        59.000000\n",
      "50%        79.000000\n",
      "75%       104.000000\n",
      "max       443.000000\n",
      "Name: surface_relle_bati, dtype: float64\n",
      "Postal code is: 33270\n",
      "count    1538.000000\n",
      "mean       87.927178\n",
      "std        49.221419\n",
      "min        12.000000\n",
      "25%        58.000000\n",
      "50%        80.000000\n",
      "75%       101.000000\n",
      "max       644.000000\n",
      "Name: surface_relle_bati, dtype: float64\n",
      "Postal code is: 33170\n",
      "count    2224.000000\n",
      "mean       78.316547\n",
      "std        48.441102\n",
      "min        12.000000\n",
      "25%        44.000000\n",
      "50%        70.000000\n",
      "75%       101.000000\n",
      "max       416.000000\n",
      "Name: surface_relle_bati, dtype: float64\n",
      "Postal code is: 33110\n",
      "count    2856.000000\n",
      "mean       82.221639\n",
      "std        42.707053\n",
      "min        12.000000\n",
      "25%        56.000000\n",
      "50%        72.000000\n",
      "75%        96.000000\n",
      "max       361.000000\n",
      "Name: surface_relle_bati, dtype: float64\n",
      "Postal code is: 33185\n",
      "count    888.000000\n",
      "mean      82.993243\n",
      "std       35.828068\n",
      "min       20.000000\n",
      "25%       60.000000\n",
      "50%       80.000000\n",
      "75%      100.000000\n",
      "max      256.000000\n",
      "Name: surface_relle_bati, dtype: float64\n",
      "Postal code is: 33310\n",
      "count    1795.000000\n",
      "mean       71.659053\n",
      "std        28.066585\n",
      "min         6.000000\n",
      "25%        54.000000\n",
      "50%        67.000000\n",
      "75%        85.000000\n",
      "max       270.000000\n",
      "Name: surface_relle_bati, dtype: float64\n",
      "Postal code is: 33127\n",
      "count    1327.000000\n",
      "mean       94.929164\n",
      "std        44.878211\n",
      "min        24.000000\n",
      "25%        60.000000\n",
      "50%        88.000000\n",
      "75%       123.000000\n",
      "max       319.000000\n",
      "Name: surface_relle_bati, dtype: float64\n",
      "Postal code is: 33700\n",
      "count    8586.000000\n",
      "mean       74.283252\n",
      "std        37.249770\n",
      "min         8.000000\n",
      "25%        50.000000\n",
      "50%        67.000000\n",
      "75%        87.000000\n",
      "max       513.000000\n",
      "Name: surface_relle_bati, dtype: float64\n",
      "Postal code is: 33600\n",
      "count    5704.000000\n",
      "mean       81.639551\n",
      "std        41.755089\n",
      "min         9.000000\n",
      "25%        53.000000\n",
      "50%        76.000000\n",
      "75%       100.000000\n",
      "max       462.000000\n",
      "Name: surface_relle_bati, dtype: float64\n",
      "Postal code is: 33160\n",
      "count    2741.000000\n",
      "mean      100.305363\n",
      "std        43.062480\n",
      "min         1.000000\n",
      "25%        70.000000\n",
      "50%        96.000000\n",
      "75%       124.000000\n",
      "max       404.000000\n",
      "Name: surface_relle_bati, dtype: float64\n",
      "Postal code is: 33400\n",
      "count    5531.000000\n",
      "mean       60.418369\n",
      "std        35.062950\n",
      "min         2.000000\n",
      "25%        33.000000\n",
      "50%        58.000000\n",
      "75%        78.000000\n",
      "max       364.000000\n",
      "Name: surface_relle_bati, dtype: float64\n",
      "Postal code is: 33140\n",
      "count    5402.000000\n",
      "mean       72.534987\n",
      "std        41.021537\n",
      "min        10.000000\n",
      "25%        44.000000\n",
      "50%        64.000000\n",
      "75%        86.000000\n",
      "max       656.000000\n",
      "Name: surface_relle_bati, dtype: float64\n"
     ]
    }
   ],
   "source": [
    "# get the description of size of apartment according to the postal code\n",
    "for c in postal_codes:\n",
    "      data_desc_size = df_bordeaux[df_bordeaux['code_postal']==int(c)]['surface_relle_bati'].describe()\n",
    "      print('Postal code is:', c)\n",
    "      print(data_desc_size)"
   ],
   "metadata": {
    "collapsed": false,
    "pycharm": {
     "name": "#%%\n"
    }
   }
  },
  {
   "cell_type": "code",
   "execution_count": 7,
   "outputs": [
    {
     "name": "stdout",
     "output_type": "stream",
     "text": [
      "Postal code is: 33000\n",
      "count    1.683100e+04\n",
      "mean     4.657685e+05\n",
      "std      8.232594e+05\n",
      "min      1.000000e+00\n",
      "25%      1.500000e+05\n",
      "50%      2.695000e+05\n",
      "75%      4.900000e+05\n",
      "max      1.780267e+07\n",
      "Name: valeur_fonciere, dtype: float64\n",
      "Postal code is: 33440\n",
      "count    1.478000e+03\n",
      "mean     2.521317e+05\n",
      "std      3.113211e+05\n",
      "min      1.500000e+01\n",
      "25%      1.458625e+05\n",
      "50%      1.936000e+05\n",
      "75%      2.469375e+05\n",
      "max      4.370000e+06\n",
      "Name: valeur_fonciere, dtype: float64\n",
      "Postal code is: 33810\n",
      "count    3.050000e+02\n",
      "mean     1.862733e+05\n",
      "std      1.773119e+05\n",
      "min      1.000000e+04\n",
      "25%      1.200000e+05\n",
      "50%      1.490000e+05\n",
      "75%      1.820000e+05\n",
      "max      1.040100e+06\n",
      "Name: valeur_fonciere, dtype: float64\n",
      "Postal code is: 33370\n",
      "count    2.363000e+03\n",
      "mean     4.242422e+05\n",
      "std      1.012104e+06\n",
      "min      1.500000e+01\n",
      "25%      1.777220e+05\n",
      "50%      2.438000e+05\n",
      "75%      3.200000e+05\n",
      "max      1.000000e+07\n",
      "Name: valeur_fonciere, dtype: float64\n",
      "Postal code is: 33530\n",
      "count    5.480000e+02\n",
      "mean     2.407516e+05\n",
      "std      3.231128e+05\n",
      "min      1.135900e+04\n",
      "25%      1.602542e+05\n",
      "50%      2.000000e+05\n",
      "75%      2.450000e+05\n",
      "max      6.500000e+06\n",
      "Name: valeur_fonciere, dtype: float64\n",
      "Postal code is: 33130\n",
      "count    3.924000e+03\n",
      "mean     5.546634e+05\n",
      "std      1.730709e+06\n",
      "min      1.000000e+00\n",
      "25%      1.487087e+05\n",
      "50%      2.012440e+05\n",
      "75%      2.920250e+05\n",
      "max      1.842900e+07\n",
      "Name: valeur_fonciere, dtype: float64\n",
      "Postal code is: 33290\n",
      "count    2.923000e+03\n",
      "mean     5.396260e+05\n",
      "std      4.994869e+06\n",
      "min      0.000000e+00\n",
      "25%      1.700000e+05\n",
      "50%      2.400000e+05\n",
      "75%      3.250000e+05\n",
      "max      2.648310e+08\n",
      "Name: valeur_fonciere, dtype: float64\n",
      "Postal code is: 33520\n",
      "count    2.200000e+03\n",
      "mean     2.996501e+05\n",
      "std      3.259499e+05\n",
      "min      0.000000e+00\n",
      "25%      1.620000e+05\n",
      "50%      2.098520e+05\n",
      "75%      3.000000e+05\n",
      "max      3.864291e+06\n",
      "Name: valeur_fonciere, dtype: float64\n",
      "Postal code is: 33560\n",
      "count    1.089000e+03\n",
      "mean     2.771141e+05\n",
      "std      3.633644e+05\n",
      "min      0.000000e+00\n",
      "25%      1.500000e+05\n",
      "50%      2.060000e+05\n",
      "75%      2.756500e+05\n",
      "max      4.689728e+06\n",
      "Name: valeur_fonciere, dtype: float64\n",
      "Postal code is: 33150\n",
      "count    3.144000e+03\n",
      "mean     3.817340e+05\n",
      "std      9.276477e+05\n",
      "min      0.000000e+00\n",
      "25%      1.300000e+05\n",
      "50%      1.693200e+05\n",
      "75%      2.299310e+05\n",
      "max      8.115000e+06\n",
      "Name: valeur_fonciere, dtype: float64\n",
      "Postal code is: 33320\n",
      "count    3.040000e+03\n",
      "mean     3.437135e+05\n",
      "std      5.460455e+05\n",
      "min      1.000000e+03\n",
      "25%      1.700000e+05\n",
      "50%      2.390000e+05\n",
      "75%      3.350000e+05\n",
      "max      6.231966e+06\n",
      "Name: valeur_fonciere, dtype: float64\n",
      "Postal code is: 33270\n",
      "count    1.538000e+03\n",
      "mean     2.814657e+05\n",
      "std      2.656028e+05\n",
      "min      0.000000e+00\n",
      "25%      1.560350e+05\n",
      "50%      2.120000e+05\n",
      "75%      3.093875e+05\n",
      "max      3.426510e+06\n",
      "Name: valeur_fonciere, dtype: float64\n",
      "Postal code is: 33170\n",
      "count    2.224000e+03\n",
      "mean     7.288377e+05\n",
      "std      1.741549e+06\n",
      "min      1.000000e+03\n",
      "25%      1.241955e+05\n",
      "50%      2.100000e+05\n",
      "75%      3.548125e+05\n",
      "max      9.050000e+06\n",
      "Name: valeur_fonciere, dtype: float64\n",
      "Postal code is: 33110\n",
      "count    2.856000e+03\n",
      "mean     4.813554e+05\n",
      "std      1.020515e+06\n",
      "min      1.000000e+00\n",
      "25%      1.600000e+05\n",
      "50%      2.450000e+05\n",
      "75%      4.128000e+05\n",
      "max      1.240000e+07\n",
      "Name: valeur_fonciere, dtype: float64\n",
      "Postal code is: 33185\n",
      "count    8.880000e+02\n",
      "mean     6.495350e+05\n",
      "std      1.458561e+06\n",
      "min      1.000000e+03\n",
      "25%      1.778360e+05\n",
      "50%      2.500000e+05\n",
      "75%      3.431625e+05\n",
      "max      7.894646e+06\n",
      "Name: valeur_fonciere, dtype: float64\n",
      "Postal code is: 33310\n",
      "count    1.795000e+03\n",
      "mean     3.749292e+05\n",
      "std      8.195912e+05\n",
      "min      0.000000e+00\n",
      "25%      1.235560e+05\n",
      "50%      1.600000e+05\n",
      "75%      2.169055e+05\n",
      "max      4.227265e+06\n",
      "Name: valeur_fonciere, dtype: float64\n",
      "Postal code is: 33127\n",
      "count    1.327000e+03\n",
      "mean     4.623456e+05\n",
      "std      9.284464e+05\n",
      "min      1.000000e+00\n",
      "25%      1.762835e+05\n",
      "50%      2.720000e+05\n",
      "75%      3.850000e+05\n",
      "max      8.301271e+06\n",
      "Name: valeur_fonciere, dtype: float64\n",
      "Postal code is: 33700\n",
      "count    8.586000e+03\n",
      "mean     4.225167e+05\n",
      "std      1.336565e+06\n",
      "min      1.000000e+00\n",
      "25%      1.440325e+05\n",
      "50%      1.973800e+05\n",
      "75%      2.990000e+05\n",
      "max      1.614240e+07\n",
      "Name: valeur_fonciere, dtype: float64\n",
      "Postal code is: 33600\n",
      "count    5.704000e+03\n",
      "mean     3.635463e+05\n",
      "std      5.287282e+05\n",
      "min      1.000000e+00\n",
      "25%      1.590000e+05\n",
      "50%      2.470000e+05\n",
      "75%      3.572885e+05\n",
      "max      4.825000e+06\n",
      "Name: valeur_fonciere, dtype: float64\n",
      "Postal code is: 33160\n",
      "count    2.741000e+03\n",
      "mean     4.676756e+05\n",
      "std      1.101176e+06\n",
      "min      0.000000e+00\n",
      "25%      2.185500e+05\n",
      "50%      2.900000e+05\n",
      "75%      3.775000e+05\n",
      "max      7.894646e+06\n",
      "Name: valeur_fonciere, dtype: float64\n",
      "Postal code is: 33400\n",
      "count    5.531000e+03\n",
      "mean     8.571686e+05\n",
      "std      2.042818e+06\n",
      "min      5.000000e+00\n",
      "25%      1.254850e+05\n",
      "50%      2.100000e+05\n",
      "75%      3.799000e+05\n",
      "max      1.050000e+07\n",
      "Name: valeur_fonciere, dtype: float64\n",
      "Postal code is: 33140\n",
      "count    5.402000e+03\n",
      "mean     5.037720e+05\n",
      "std      1.259606e+06\n",
      "min      3.780000e+03\n",
      "25%      1.601525e+05\n",
      "50%      2.140000e+05\n",
      "75%      2.880000e+05\n",
      "max      9.975263e+06\n",
      "Name: valeur_fonciere, dtype: float64\n"
     ]
    }
   ],
   "source": [
    "# get the description of price of apartment according to the postal code\n",
    "for c in postal_codes:\n",
    "    data_desc_price = df_bordeaux[df_bordeaux['code_postal']==int(c)]['valeur_fonciere'].describe()\n",
    "    print('Postal code is:', c)\n",
    "    print(data_desc_price)"
   ],
   "metadata": {
    "collapsed": false,
    "pycharm": {
     "name": "#%%\n"
    }
   }
  },
  {
   "cell_type": "code",
   "execution_count": 8,
   "outputs": [],
   "source": [
    "f.close()"
   ],
   "metadata": {
    "collapsed": false,
    "pycharm": {
     "name": "#%%\n"
    }
   }
  },
  {
   "cell_type": "markdown",
   "source": [
    "Q2: Data analysis and Visualization"
   ],
   "metadata": {
    "collapsed": false,
    "pycharm": {
     "name": "#%% md\n"
    }
   }
  },
  {
   "cell_type": "markdown",
   "source": [
    "Work on TESLA daily price data, i.e., TSLA_2017_2020.xlsx, to apply a momentum as we have done in the lecture."
   ],
   "metadata": {
    "collapsed": false,
    "pycharm": {
     "name": "#%% md\n"
    }
   }
  },
  {
   "cell_type": "markdown",
   "source": [
    "Question (A) For long strategy, we choose simple-moving average (SMA) pairs (i.e., 5-day SMA and 10-day SMA) to analyze the trend in the stock market. Please compute 5-day SMA and 10-day SMA of the close price sequence, plot, and labels 5-day SMA and 10-day SMA with blue and red solid curves, respectively. Please attach the figure in the report."
   ],
   "metadata": {
    "collapsed": false,
    "pycharm": {
     "name": "#%% md\n"
    }
   }
  },
  {
   "cell_type": "code",
   "execution_count": 84,
   "outputs": [
    {
     "data": {
      "text/plain": "        Date ticker       High        Low       Open      Close    Volume  \\\n0 2017-01-03   TSLA  44.066002  42.192001  42.972000  43.397999  29616500   \n1 2017-01-04   TSLA  45.599998  42.862000  42.950001  45.397999  56067500   \n2 2017-01-05   TSLA  45.495998  44.389999  45.284000  45.349998  29558500   \n3 2017-01-06   TSLA  46.062000  45.090000  45.386002  45.801998  27639500   \n4 2017-01-09   TSLA  46.383999  45.599998  45.793999  46.256001  19897500   \n\n   Adj Close  \n0  43.397999  \n1  45.397999  \n2  45.349998  \n3  45.801998  \n4  46.256001  ",
      "text/html": "<div>\n<style scoped>\n    .dataframe tbody tr th:only-of-type {\n        vertical-align: middle;\n    }\n\n    .dataframe tbody tr th {\n        vertical-align: top;\n    }\n\n    .dataframe thead th {\n        text-align: right;\n    }\n</style>\n<table border=\"1\" class=\"dataframe\">\n  <thead>\n    <tr style=\"text-align: right;\">\n      <th></th>\n      <th>Date</th>\n      <th>ticker</th>\n      <th>High</th>\n      <th>Low</th>\n      <th>Open</th>\n      <th>Close</th>\n      <th>Volume</th>\n      <th>Adj Close</th>\n    </tr>\n  </thead>\n  <tbody>\n    <tr>\n      <th>0</th>\n      <td>2017-01-03</td>\n      <td>TSLA</td>\n      <td>44.066002</td>\n      <td>42.192001</td>\n      <td>42.972000</td>\n      <td>43.397999</td>\n      <td>29616500</td>\n      <td>43.397999</td>\n    </tr>\n    <tr>\n      <th>1</th>\n      <td>2017-01-04</td>\n      <td>TSLA</td>\n      <td>45.599998</td>\n      <td>42.862000</td>\n      <td>42.950001</td>\n      <td>45.397999</td>\n      <td>56067500</td>\n      <td>45.397999</td>\n    </tr>\n    <tr>\n      <th>2</th>\n      <td>2017-01-05</td>\n      <td>TSLA</td>\n      <td>45.495998</td>\n      <td>44.389999</td>\n      <td>45.284000</td>\n      <td>45.349998</td>\n      <td>29558500</td>\n      <td>45.349998</td>\n    </tr>\n    <tr>\n      <th>3</th>\n      <td>2017-01-06</td>\n      <td>TSLA</td>\n      <td>46.062000</td>\n      <td>45.090000</td>\n      <td>45.386002</td>\n      <td>45.801998</td>\n      <td>27639500</td>\n      <td>45.801998</td>\n    </tr>\n    <tr>\n      <th>4</th>\n      <td>2017-01-09</td>\n      <td>TSLA</td>\n      <td>46.383999</td>\n      <td>45.599998</td>\n      <td>45.793999</td>\n      <td>46.256001</td>\n      <td>19897500</td>\n      <td>46.256001</td>\n    </tr>\n  </tbody>\n</table>\n</div>"
     },
     "execution_count": 84,
     "metadata": {},
     "output_type": "execute_result"
    }
   ],
   "source": [
    "# open the file TESLA en excel\n",
    "df_tesla = pd.read_excel('/Users/ruiyu/Desktop/Python/Code/pythonCoursMBS/exam/TSLA_2017_2020.xlsx')\n",
    "df_tesla.head()"
   ],
   "metadata": {
    "collapsed": false,
    "pycharm": {
     "name": "#%%\n"
    }
   }
  },
  {
   "cell_type": "code",
   "execution_count": 85,
   "outputs": [
    {
     "name": "stdout",
     "output_type": "stream",
     "text": [
      "<class 'pandas.core.frame.DataFrame'>\n",
      "RangeIndex: 754 entries, 0 to 753\n",
      "Data columns (total 8 columns):\n",
      " #   Column     Non-Null Count  Dtype         \n",
      "---  ------     --------------  -----         \n",
      " 0   Date       754 non-null    datetime64[ns]\n",
      " 1   ticker     754 non-null    object        \n",
      " 2   High       754 non-null    float64       \n",
      " 3   Low        754 non-null    float64       \n",
      " 4   Open       754 non-null    float64       \n",
      " 5   Close      754 non-null    float64       \n",
      " 6   Volume     754 non-null    int64         \n",
      " 7   Adj Close  754 non-null    float64       \n",
      "dtypes: datetime64[ns](1), float64(5), int64(1), object(1)\n",
      "memory usage: 47.2+ KB\n"
     ]
    }
   ],
   "source": [
    "df_tesla.info()"
   ],
   "metadata": {
    "collapsed": false,
    "pycharm": {
     "name": "#%%\n"
    }
   }
  },
  {
   "cell_type": "code",
   "execution_count": 98,
   "outputs": [
    {
     "data": {
      "text/plain": "0           NaN\n1           NaN\n2           NaN\n3           NaN\n4     45.240799\n5     45.755999\n6     45.865599\n7     45.979199\n8     46.328799\n9     46.500800\n10    46.840400\n11    47.401600\n12    48.007200\n13    48.454000\n14    49.215200\n15    49.859600\n16    50.209600\n17    50.538400\n18    50.606800\n19    50.499600\nName: 5-day SMA, dtype: float64"
     },
     "execution_count": 98,
     "metadata": {},
     "output_type": "execute_result"
    }
   ],
   "source": [
    "# Calculate the simple moving average of the closing price on 5 days and 10 days\n",
    "short = 5\n",
    "long = 10\n",
    "df_tesla['5-day SMA'] = df_tesla['Close'].rolling(window=short).mean()\n",
    "df_tesla['10-day SMA'] = df_tesla['Close'].rolling(window=long).mean()\n",
    "\n",
    "df_tesla['5-day SMA'].head(20)"
   ],
   "metadata": {
    "collapsed": false,
    "pycharm": {
     "name": "#%%\n"
    }
   }
  },
  {
   "cell_type": "code",
   "execution_count": 99,
   "outputs": [
    {
     "data": {
      "text/plain": "0           NaN\n1           NaN\n2           NaN\n3           NaN\n4           NaN\n5           NaN\n6           NaN\n7           NaN\n8           NaN\n9     45.870799\n10    46.298199\n11    46.633599\n12    46.993200\n13    47.391400\n14    47.858000\n15    48.350000\n16    48.805600\n17    49.272800\n18    49.530400\n19    49.857400\nName: 10-day SMA, dtype: float64"
     },
     "execution_count": 99,
     "metadata": {},
     "output_type": "execute_result"
    }
   ],
   "source": [
    "df_tesla['10-day SMA'].head(20)"
   ],
   "metadata": {
    "collapsed": false,
    "pycharm": {
     "name": "#%%\n"
    }
   }
  },
  {
   "cell_type": "code",
   "execution_count": 101,
   "outputs": [
    {
     "data": {
      "text/plain": "<matplotlib.legend.Legend at 0x11f7b7d60>"
     },
     "execution_count": 101,
     "metadata": {},
     "output_type": "execute_result"
    },
    {
     "data": {
      "text/plain": "<Figure size 1296x648 with 1 Axes>",
      "image/png": "[encoded data removed]"
     },
     "metadata": {
      "needs_background": "light"
     },
     "output_type": "display_data"
    }
   ],
   "source": [
    "# Creating the plot with the two moving averages\n",
    "import matplotlib.pyplot as plt\n",
    "plt.figure(figsize=(18,9))\n",
    "plt.plot(df_tesla['Date'], df_tesla['5-day SMA'], color='blue', label='5-days SMA')\n",
    "plt.plot(df_tesla['Date'], df_tesla['10-day SMA'], color='red', label='10-day SMA')\n",
    "plt.xlabel('Date')\n",
    "plt.ylabel('Closing price')\n",
    "plt.title('SMA stock of Tesla')\n",
    "plt.legend(loc='upper left')"
   ],
   "metadata": {
    "collapsed": false,
    "pycharm": {
     "name": "#%%\n"
    }
   }
  },
  {
   "cell_type": "markdown",
   "source": [
    "Question (B) If golden cross (i.e., the buying signal) occurs when 5-day SMA crosses over 10-day SMA and the death cross (i.e., the selling signal) occurs when 10-day SMA crosses over 5-day SMA. Please write a python code to simulate the revenue of this trading strategy given your trade is executed at the next day’s open price. Please report the total number of transactions and your average revenue that you have traded to Q3_b.xlsx."
   ],
   "metadata": {
    "collapsed": false,
    "pycharm": {
     "name": "#%% md\n"
    }
   }
  },
  {
   "cell_type": "code",
   "source": [
    "# get the data of the stock\n",
    "df_tesla.head()"
   ],
   "metadata": {
    "collapsed": false,
    "pycharm": {
     "name": "#%%\n"
    }
   },
   "execution_count": 102,
   "outputs": [
    {
     "data": {
      "text/plain": "        Date ticker       High        Low       Open      Close    Volume  \\\n0 2017-01-03   TSLA  44.066002  42.192001  42.972000  43.397999  29616500   \n1 2017-01-04   TSLA  45.599998  42.862000  42.950001  45.397999  56067500   \n2 2017-01-05   TSLA  45.495998  44.389999  45.284000  45.349998  29558500   \n3 2017-01-06   TSLA  46.062000  45.090000  45.386002  45.801998  27639500   \n4 2017-01-09   TSLA  46.383999  45.599998  45.793999  46.256001  19897500   \n\n   Adj Close      SMA_5  SMA_10  5-day SMA  20-day SMA  10-day SMA  \n0  43.397999        NaN     NaN        NaN         NaN         NaN  \n1  45.397999        NaN     NaN        NaN         NaN         NaN  \n2  45.349998        NaN     NaN        NaN         NaN         NaN  \n3  45.801998        NaN     NaN        NaN         NaN         NaN  \n4  46.256001  45.240799     NaN  45.240799         NaN         NaN  ",
      "text/html": "<div>\n<style scoped>\n    .dataframe tbody tr th:only-of-type {\n        vertical-align: middle;\n    }\n\n    .dataframe tbody tr th {\n        vertical-align: top;\n    }\n\n    .dataframe thead th {\n        text-align: right;\n    }\n</style>\n<table border=\"1\" class=\"dataframe\">\n  <thead>\n    <tr style=\"text-align: right;\">\n      <th></th>\n      <th>Date</th>\n      <th>ticker</th>\n      <th>High</th>\n      <th>Low</th>\n      <th>Open</th>\n      <th>Close</th>\n      <th>Volume</th>\n      <th>Adj Close</th>\n      <th>SMA_5</th>\n      <th>SMA_10</th>\n      <th>5-day SMA</th>\n      <th>20-day SMA</th>\n      <th>10-day SMA</th>\n    </tr>\n  </thead>\n  <tbody>\n    <tr>\n      <th>0</th>\n      <td>2017-01-03</td>\n      <td>TSLA</td>\n      <td>44.066002</td>\n      <td>42.192001</td>\n      <td>42.972000</td>\n      <td>43.397999</td>\n      <td>29616500</td>\n      <td>43.397999</td>\n      <td>NaN</td>\n      <td>NaN</td>\n      <td>NaN</td>\n      <td>NaN</td>\n      <td>NaN</td>\n    </tr>\n    <tr>\n      <th>1</th>\n      <td>2017-01-04</td>\n      <td>TSLA</td>\n      <td>45.599998</td>\n      <td>42.862000</td>\n      <td>42.950001</td>\n      <td>45.397999</td>\n      <td>56067500</td>\n      <td>45.397999</td>\n      <td>NaN</td>\n      <td>NaN</td>\n      <td>NaN</td>\n      <td>NaN</td>\n      <td>NaN</td>\n    </tr>\n    <tr>\n      <th>2</th>\n      <td>2017-01-05</td>\n      <td>TSLA</td>\n      <td>45.495998</td>\n      <td>44.389999</td>\n      <td>45.284000</td>\n      <td>45.349998</td>\n      <td>29558500</td>\n      <td>45.349998</td>\n      <td>NaN</td>\n      <td>NaN</td>\n      <td>NaN</td>\n      <td>NaN</td>\n      <td>NaN</td>\n    </tr>\n    <tr>\n      <th>3</th>\n      <td>2017-01-06</td>\n      <td>TSLA</td>\n      <td>46.062000</td>\n      <td>45.090000</td>\n      <td>45.386002</td>\n      <td>45.801998</td>\n      <td>27639500</td>\n      <td>45.801998</td>\n      <td>NaN</td>\n      <td>NaN</td>\n      <td>NaN</td>\n      <td>NaN</td>\n      <td>NaN</td>\n    </tr>\n    <tr>\n      <th>4</th>\n      <td>2017-01-09</td>\n      <td>TSLA</td>\n      <td>46.383999</td>\n      <td>45.599998</td>\n      <td>45.793999</td>\n      <td>46.256001</td>\n      <td>19897500</td>\n      <td>46.256001</td>\n      <td>45.240799</td>\n      <td>NaN</td>\n      <td>45.240799</td>\n      <td>NaN</td>\n      <td>NaN</td>\n    </tr>\n  </tbody>\n</table>\n</div>"
     },
     "execution_count": 102,
     "metadata": {},
     "output_type": "execute_result"
    }
   ]
  },
  {
   "cell_type": "markdown",
   "source": [
    "I will calculate this revenue with the long operation"
   ],
   "metadata": {
    "collapsed": false,
    "pycharm": {
     "name": "#%% md\n"
    }
   }
  },
  {
   "cell_type": "code",
   "execution_count": 103,
   "outputs": [],
   "source": [
    "import numpy as np"
   ],
   "metadata": {
    "collapsed": false,
    "pycharm": {
     "name": "#%%\n"
    }
   }
  },
  {
   "cell_type": "code",
   "execution_count": 104,
   "outputs": [
    {
     "name": "stdout",
     "output_type": "stream",
     "text": [
      "The total number of transactions is: 81\n",
      "The average revenue is:  0.38105001449584835\n",
      "The total revenue is:  15.242000579833935\n"
     ]
    }
   ],
   "source": [
    "# calculate the average revenue of 5-day SMA and 10-day SMA\n",
    "def golden_death_transaction(stock):\n",
    "    position = False\n",
    "    transactions = 0\n",
    "    buy_price = []\n",
    "    sell_price = []\n",
    "    revenue = []\n",
    "    temps_buyprice = -1\n",
    "\n",
    "    for i in range(len(stock)):\n",
    "        if stock['SMA_5'][i] > stock['SMA_10'][i]:\n",
    "            # signal to buy:\n",
    "            if not position:\n",
    "                buy_price.append(stock['Open'][i + 1])\n",
    "                sell_price.append(np.nan)\n",
    "                temps_buyprice = stock['Open'][i + 1]\n",
    "                revenue.append(np.nan)\n",
    "                transactions += 1\n",
    "                position = True\n",
    "            else:\n",
    "                # signal to sell:\n",
    "                sell_price.append(np.nan)\n",
    "                revenue.append(np.nan)\n",
    "                revenue.append(np.nan)\n",
    "        elif stock['SMA_5'][i] < stock['SMA_10'][i]:\n",
    "            # signal to sell:\n",
    "            if position:\n",
    "                buy_price.append(np.nan)\n",
    "                sell_price.append(stock['Open'][i + 1])\n",
    "                revenue.append(stock['Open'][i + 1] - temps_buyprice)\n",
    "                transactions += 1\n",
    "                position = False\n",
    "            else:\n",
    "                buy_price.append(np.nan)\n",
    "                sell_price.append(np.nan)\n",
    "                revenue.append(np.nan)\n",
    "        else:\n",
    "            buy_price.append(np.nan)\n",
    "            sell_price.append(np.nan)\n",
    "            revenue.append(np.nan)\n",
    "    return {'buying_price': buy_price, 'selling_price': sell_price, 'average_revenue': np.nanmean(revenue),\n",
    "            'total_revenue': np.nansum(revenue), 'transactions': transactions, 'revenue': revenue}\n",
    "\n",
    "\n",
    "result_stock_transaction = golden_death_transaction(df_tesla)\n",
    "print('The total number of transactions is:', result_stock_transaction['transactions'])\n",
    "print('The average revenue is: ', result_stock_transaction['average_revenue'])\n",
    "print('The total revenue is: ', result_stock_transaction['total_revenue'])"
   ],
   "metadata": {
    "collapsed": false,
    "pycharm": {
     "name": "#%%\n"
    }
   }
  },
  {
   "cell_type": "code",
   "execution_count": 105,
   "outputs": [
    {
     "data": {
      "text/plain": "   Total transaction  Average revenue  Total revenue\n0                 81          0.38105      15.242001",
      "text/html": "<div>\n<style scoped>\n    .dataframe tbody tr th:only-of-type {\n        vertical-align: middle;\n    }\n\n    .dataframe tbody tr th {\n        vertical-align: top;\n    }\n\n    .dataframe thead th {\n        text-align: right;\n    }\n</style>\n<table border=\"1\" class=\"dataframe\">\n  <thead>\n    <tr style=\"text-align: right;\">\n      <th></th>\n      <th>Total transaction</th>\n      <th>Average revenue</th>\n      <th>Total revenue</th>\n    </tr>\n  </thead>\n  <tbody>\n    <tr>\n      <th>0</th>\n      <td>81</td>\n      <td>0.38105</td>\n      <td>15.242001</td>\n    </tr>\n  </tbody>\n</table>\n</div>"
     },
     "execution_count": 105,
     "metadata": {},
     "output_type": "execute_result"
    }
   ],
   "source": [
    "# Please report the total number of transactions and your average revenue that you have traded to Q3_b.xlsx.\n",
    "df_result_tesla = pd.DataFrame({\n",
    "    'Total transaction': [result_stock_transaction['transactions']],\n",
    "    'Average revenue': [result_stock_transaction['average_revenue']],\n",
    "    'Total revenue': [result_stock_transaction['total_revenue']]})\n",
    "df_result_tesla.to_excel('Q3_b.xlsx')\n",
    "df_result_tesla"
   ],
   "metadata": {
    "collapsed": false,
    "pycharm": {
     "name": "#%%\n"
    }
   }
  },
  {
   "cell_type": "code",
   "execution_count": 106,
   "outputs": [
    {
     "data": {
      "text/plain": "                            0\nTotal transactions  81.000000\nAverage revenue      0.381050\nTotal revenue       15.242001",
      "text/html": "<div>\n<style scoped>\n    .dataframe tbody tr th:only-of-type {\n        vertical-align: middle;\n    }\n\n    .dataframe tbody tr th {\n        vertical-align: top;\n    }\n\n    .dataframe thead th {\n        text-align: right;\n    }\n</style>\n<table border=\"1\" class=\"dataframe\">\n  <thead>\n    <tr style=\"text-align: right;\">\n      <th></th>\n      <th>0</th>\n    </tr>\n  </thead>\n  <tbody>\n    <tr>\n      <th>Total transactions</th>\n      <td>81.000000</td>\n    </tr>\n    <tr>\n      <th>Average revenue</th>\n      <td>0.381050</td>\n    </tr>\n    <tr>\n      <th>Total revenue</th>\n      <td>15.242001</td>\n    </tr>\n  </tbody>\n</table>\n</div>"
     },
     "execution_count": 106,
     "metadata": {},
     "output_type": "execute_result"
    }
   ],
   "source": [
    "# calculate the average revenue of 5-day SMA and 10-day SMA\n",
    "def golden_death_transaction(stock):\n",
    "    status = 0\n",
    "    transactions = 0\n",
    "    buy_price = []\n",
    "    sell_price = []\n",
    "    revenue = []\n",
    "    temp_buyprice = -1\n",
    "\n",
    "    for i in range(len(stock)):\n",
    "        if stock['SMA_5'][i] > stock['SMA_10'][i]:\n",
    "                # signal to buy:\n",
    "            if status != 1:\n",
    "                status = 1\n",
    "                buy_price.append(stock['Open'][i + 1])\n",
    "                sell_price.append(np.nan)\n",
    "                temp_buyprice= stock['Open'][i+1]\n",
    "                revenue.append(np.nan)\n",
    "                transactions += 1\n",
    "            else:\n",
    "                buy_price.append(np.nan)\n",
    "                sell_price.append(np.nan)\n",
    "                revenue.append(np.nan)\n",
    "        elif stock['SMA_5'][i] < stock['SMA_10'][i]:\n",
    "            # signal to sell:\n",
    "            if status !=0:\n",
    "                status = 0\n",
    "                buy_price.append(np.nan)\n",
    "                sell_price.append(stock['Open'][i+1])\n",
    "                revenue.append(stock['Open'][i+1]- temp_buyprice)\n",
    "                transactions += 1\n",
    "            else:\n",
    "                buy_price.append(np.nan)\n",
    "                sell_price.append(np.nan)\n",
    "                revenue.append(np.nan)\n",
    "        else:\n",
    "            buy_price.append(np.nan)\n",
    "            sell_price.append(np.nan)\n",
    "            revenue.append(np.nan)\n",
    "\n",
    "    return buy_price, sell_price, revenue, transactions\n",
    "\n",
    "result_tesla = golden_death_transaction(df_tesla)\n",
    "# calculate the total number of transactions\n",
    "total_transactions = result_tesla[3]\n",
    "# calculate the average revenue\n",
    "average_revenue = np.nanmean(result_tesla[2])\n",
    "# calculate the total revenue\n",
    "total_revenue = np.nansum(result_tesla[2])\n",
    "\n",
    "# create a table and report it to the excel\n",
    "df_result_tesla = pd.DataFrame([total_transactions,average_revenue, total_revenue], index=['Total transactions', 'Average revenue', 'Total revenue'])\n",
    "df_result_tesla.to_excel('Q3_b.xlsx')\n",
    "df_result_tesla"
   ],
   "metadata": {
    "collapsed": false,
    "pycharm": {
     "name": "#%%\n"
    }
   }
  },
  {
   "cell_type": "markdown",
   "source": [
    "Question (C) Continue with (B) Please visualize the strategy over 3 years in a graph, where the black solid line is used for the open price sequence with a blue pentagon for golden cross (buy) and red pentagon for death cross (sell), respectively. Please attach the figure in the report."
   ],
   "metadata": {
    "collapsed": false,
    "pycharm": {
     "name": "#%% md\n"
    }
   }
  },
  {
   "cell_type": "code",
   "execution_count": 107,
   "outputs": [
    {
     "data": {
      "text/plain": "          Date  buy_price  sell_price  revenue\n0   2017-01-03        NaN         NaN      NaN\n1   2017-01-04        NaN         NaN      NaN\n2   2017-01-05        NaN         NaN      NaN\n3   2017-01-06        NaN         NaN      NaN\n4   2017-01-09        NaN         NaN      NaN\n..         ...        ...         ...      ...\n749 2019-12-24        NaN         NaN      NaN\n750 2019-12-26        NaN         NaN      NaN\n751 2019-12-27        NaN         NaN      NaN\n752 2019-12-30        NaN         NaN      NaN\n753 2019-12-31        NaN         NaN      NaN\n\n[754 rows x 4 columns]",
      "text/html": "<div>\n<style scoped>\n    .dataframe tbody tr th:only-of-type {\n        vertical-align: middle;\n    }\n\n    .dataframe tbody tr th {\n        vertical-align: top;\n    }\n\n    .dataframe thead th {\n        text-align: right;\n    }\n</style>\n<table border=\"1\" class=\"dataframe\">\n  <thead>\n    <tr style=\"text-align: right;\">\n      <th></th>\n      <th>Date</th>\n      <th>buy_price</th>\n      <th>sell_price</th>\n      <th>revenue</th>\n    </tr>\n  </thead>\n  <tbody>\n    <tr>\n      <th>0</th>\n      <td>2017-01-03</td>\n      <td>NaN</td>\n      <td>NaN</td>\n      <td>NaN</td>\n    </tr>\n    <tr>\n      <th>1</th>\n      <td>2017-01-04</td>\n      <td>NaN</td>\n      <td>NaN</td>\n      <td>NaN</td>\n    </tr>\n    <tr>\n      <th>2</th>\n      <td>2017-01-05</td>\n      <td>NaN</td>\n      <td>NaN</td>\n      <td>NaN</td>\n    </tr>\n    <tr>\n      <th>3</th>\n      <td>2017-01-06</td>\n      <td>NaN</td>\n      <td>NaN</td>\n      <td>NaN</td>\n    </tr>\n    <tr>\n      <th>4</th>\n      <td>2017-01-09</td>\n      <td>NaN</td>\n      <td>NaN</td>\n      <td>NaN</td>\n    </tr>\n    <tr>\n      <th>...</th>\n      <td>...</td>\n      <td>...</td>\n      <td>...</td>\n      <td>...</td>\n    </tr>\n    <tr>\n      <th>749</th>\n      <td>2019-12-24</td>\n      <td>NaN</td>\n      <td>NaN</td>\n      <td>NaN</td>\n    </tr>\n    <tr>\n      <th>750</th>\n      <td>2019-12-26</td>\n      <td>NaN</td>\n      <td>NaN</td>\n      <td>NaN</td>\n    </tr>\n    <tr>\n      <th>751</th>\n      <td>2019-12-27</td>\n      <td>NaN</td>\n      <td>NaN</td>\n      <td>NaN</td>\n    </tr>\n    <tr>\n      <th>752</th>\n      <td>2019-12-30</td>\n      <td>NaN</td>\n      <td>NaN</td>\n      <td>NaN</td>\n    </tr>\n    <tr>\n      <th>753</th>\n      <td>2019-12-31</td>\n      <td>NaN</td>\n      <td>NaN</td>\n      <td>NaN</td>\n    </tr>\n  </tbody>\n</table>\n<p>754 rows × 4 columns</p>\n</div>"
     },
     "execution_count": 107,
     "metadata": {},
     "output_type": "execute_result"
    }
   ],
   "source": [
    "# get a DataFrame of this strategy\n",
    "df_stock_alter = pd.DataFrame({'Date':df_tesla['Date'], 'buy_price': result_tesla[0],\n",
    "                              'sell_price': result_tesla[1], 'revenue': result_tesla[2]})\n",
    "df_stock_alter"
   ],
   "metadata": {
    "collapsed": false,
    "pycharm": {
     "name": "#%%\n"
    }
   }
  },
  {
   "cell_type": "code",
   "execution_count": 108,
   "outputs": [
    {
     "data": {
      "text/plain": "<Figure size 1296x648 with 1 Axes>",
      "image/png": "[encoded data removed]"
     },
     "metadata": {
      "needs_background": "light"
     },
     "output_type": "display_data"
    }
   ],
   "source": [
    "# Te present the trading strategy over 3 years, we choose blue and red pentagon to mark the buying and selling price of each transaction, respectively.\n",
    "plt.figure(figsize = (18,9))\n",
    "plt.plot(df_stock_alter['Date'], df_stock_alter['buy_price'], color = 'blue', label = 'buy signal',marker = 'p')\n",
    "plt.plot(df_stock_alter['Date'], df_stock_alter['sell_price'], color = 'red', label = 'sell signal',marker = 'p')\n",
    "plt.plot(df_stock_alter['Date'], df_tesla['Open'], color = 'black', label = 'Open price')\n",
    "plt.legend(loc = 'upper left')\n",
    "plt.grid()\n",
    "plt.xlabel('Date')\n",
    "plt.ylabel('Price')\n",
    "plt.title('Tesla stock trading strategy')\n",
    "plt.show()"
   ],
   "metadata": {
    "collapsed": false,
    "pycharm": {
     "name": "#%%\n"
    }
   }
  },
  {
   "cell_type": "markdown",
   "source": [
    "Question (D) Compare the simple-moving average (SMA) pairs you worked in (B), i.e., 5-day SMA and 10-day SMA with another simple-moving average (SMA) pairs of 5-day SMA and 20-day SMA. Please indicate which one is the better strategy in average revenue. Please provide the evidence in your report for these two trading pairs."
   ],
   "metadata": {
    "collapsed": false,
    "pycharm": {
     "name": "#%% md\n"
    }
   }
  },
  {
   "cell_type": "code",
   "execution_count": 109,
   "outputs": [
    {
     "data": {
      "text/plain": "          Date ticker       High        Low       Open      Close    Volume  \\\n0   2017-01-03   TSLA  44.066002  42.192001  42.972000  43.397999  29616500   \n1   2017-01-04   TSLA  45.599998  42.862000  42.950001  45.397999  56067500   \n2   2017-01-05   TSLA  45.495998  44.389999  45.284000  45.349998  29558500   \n3   2017-01-06   TSLA  46.062000  45.090000  45.386002  45.801998  27639500   \n4   2017-01-09   TSLA  46.383999  45.599998  45.793999  46.256001  19897500   \n..         ...    ...        ...        ...        ...        ...       ...   \n749 2019-12-24   TSLA  85.094002  82.538002  83.671997  85.050003  40273500   \n750 2019-12-26   TSLA  86.695999  85.269997  85.582001  86.188004  53169500   \n751 2019-12-27   TSLA  87.061996  85.222000  87.000000  86.075996  49728500   \n752 2019-12-30   TSLA  85.800003  81.851997  85.758003  82.940002  62932000   \n753 2019-12-31   TSLA  84.258003  80.416000  81.000000  83.666000  51428500   \n\n     Adj Close      SMA_5   SMA_10  5-day SMA  20-day SMA  10-day SMA  \n0    43.397999        NaN      NaN        NaN         NaN         NaN  \n1    45.397999        NaN      NaN        NaN         NaN         NaN  \n2    45.349998        NaN      NaN        NaN         NaN         NaN  \n3    45.801998        NaN      NaN        NaN         NaN         NaN  \n4    46.256001  45.240799      NaN  45.240799         NaN         NaN  \n..         ...        ...      ...        ...         ...         ...  \n749  85.050003  81.889999  77.5702  81.889999   72.273899     77.5702  \n750  86.188004  83.401601  79.1350  83.401601   73.294100     79.1350  \n751  86.075996  84.455200  80.5490  84.455200   74.284999     80.5490  \n752  82.940002  84.819601  81.6752  84.819601   75.132600     81.6752  \n753  83.666000  84.784001  82.4118  84.784001   75.967200     82.4118  \n\n[754 rows x 13 columns]",
      "text/html": "<div>\n<style scoped>\n    .dataframe tbody tr th:only-of-type {\n        vertical-align: middle;\n    }\n\n    .dataframe tbody tr th {\n        vertical-align: top;\n    }\n\n    .dataframe thead th {\n        text-align: right;\n    }\n</style>\n<table border=\"1\" class=\"dataframe\">\n  <thead>\n    <tr style=\"text-align: right;\">\n      <th></th>\n      <th>Date</th>\n      <th>ticker</th>\n      <th>High</th>\n      <th>Low</th>\n      <th>Open</th>\n      <th>Close</th>\n      <th>Volume</th>\n      <th>Adj Close</th>\n      <th>SMA_5</th>\n      <th>SMA_10</th>\n      <th>5-day SMA</th>\n      <th>20-day SMA</th>\n      <th>10-day SMA</th>\n    </tr>\n  </thead>\n  <tbody>\n    <tr>\n      <th>0</th>\n      <td>2017-01-03</td>\n      <td>TSLA</td>\n      <td>44.066002</td>\n      <td>42.192001</td>\n      <td>42.972000</td>\n      <td>43.397999</td>\n      <td>29616500</td>\n      <td>43.397999</td>\n      <td>NaN</td>\n      <td>NaN</td>\n      <td>NaN</td>\n      <td>NaN</td>\n      <td>NaN</td>\n    </tr>\n    <tr>\n      <th>1</th>\n      <td>2017-01-04</td>\n      <td>TSLA</td>\n      <td>45.599998</td>\n      <td>42.862000</td>\n      <td>42.950001</td>\n      <td>45.397999</td>\n      <td>56067500</td>\n      <td>45.397999</td>\n      <td>NaN</td>\n      <td>NaN</td>\n      <td>NaN</td>\n      <td>NaN</td>\n      <td>NaN</td>\n    </tr>\n    <tr>\n      <th>2</th>\n      <td>2017-01-05</td>\n      <td>TSLA</td>\n      <td>45.495998</td>\n      <td>44.389999</td>\n      <td>45.284000</td>\n      <td>45.349998</td>\n      <td>29558500</td>\n      <td>45.349998</td>\n      <td>NaN</td>\n      <td>NaN</td>\n      <td>NaN</td>\n      <td>NaN</td>\n      <td>NaN</td>\n    </tr>\n    <tr>\n      <th>3</th>\n      <td>2017-01-06</td>\n      <td>TSLA</td>\n      <td>46.062000</td>\n      <td>45.090000</td>\n      <td>45.386002</td>\n      <td>45.801998</td>\n      <td>27639500</td>\n      <td>45.801998</td>\n      <td>NaN</td>\n      <td>NaN</td>\n      <td>NaN</td>\n      <td>NaN</td>\n      <td>NaN</td>\n    </tr>\n    <tr>\n      <th>4</th>\n      <td>2017-01-09</td>\n      <td>TSLA</td>\n      <td>46.383999</td>\n      <td>45.599998</td>\n      <td>45.793999</td>\n      <td>46.256001</td>\n      <td>19897500</td>\n      <td>46.256001</td>\n      <td>45.240799</td>\n      <td>NaN</td>\n      <td>45.240799</td>\n      <td>NaN</td>\n      <td>NaN</td>\n    </tr>\n    <tr>\n      <th>...</th>\n      <td>...</td>\n      <td>...</td>\n      <td>...</td>\n      <td>...</td>\n      <td>...</td>\n      <td>...</td>\n      <td>...</td>\n      <td>...</td>\n      <td>...</td>\n      <td>...</td>\n      <td>...</td>\n      <td>...</td>\n      <td>...</td>\n    </tr>\n    <tr>\n      <th>749</th>\n      <td>2019-12-24</td>\n      <td>TSLA</td>\n      <td>85.094002</td>\n      <td>82.538002</td>\n      <td>83.671997</td>\n      <td>85.050003</td>\n      <td>40273500</td>\n      <td>85.050003</td>\n      <td>81.889999</td>\n      <td>77.5702</td>\n      <td>81.889999</td>\n      <td>72.273899</td>\n      <td>77.5702</td>\n    </tr>\n    <tr>\n      <th>750</th>\n      <td>2019-12-26</td>\n      <td>TSLA</td>\n      <td>86.695999</td>\n      <td>85.269997</td>\n      <td>85.582001</td>\n      <td>86.188004</td>\n      <td>53169500</td>\n      <td>86.188004</td>\n      <td>83.401601</td>\n      <td>79.1350</td>\n      <td>83.401601</td>\n      <td>73.294100</td>\n      <td>79.1350</td>\n    </tr>\n    <tr>\n      <th>751</th>\n      <td>2019-12-27</td>\n      <td>TSLA</td>\n      <td>87.061996</td>\n      <td>85.222000</td>\n      <td>87.000000</td>\n      <td>86.075996</td>\n      <td>49728500</td>\n      <td>86.075996</td>\n      <td>84.455200</td>\n      <td>80.5490</td>\n      <td>84.455200</td>\n      <td>74.284999</td>\n      <td>80.5490</td>\n    </tr>\n    <tr>\n      <th>752</th>\n      <td>2019-12-30</td>\n      <td>TSLA</td>\n      <td>85.800003</td>\n      <td>81.851997</td>\n      <td>85.758003</td>\n      <td>82.940002</td>\n      <td>62932000</td>\n      <td>82.940002</td>\n      <td>84.819601</td>\n      <td>81.6752</td>\n      <td>84.819601</td>\n      <td>75.132600</td>\n      <td>81.6752</td>\n    </tr>\n    <tr>\n      <th>753</th>\n      <td>2019-12-31</td>\n      <td>TSLA</td>\n      <td>84.258003</td>\n      <td>80.416000</td>\n      <td>81.000000</td>\n      <td>83.666000</td>\n      <td>51428500</td>\n      <td>83.666000</td>\n      <td>84.784001</td>\n      <td>82.4118</td>\n      <td>84.784001</td>\n      <td>75.967200</td>\n      <td>82.4118</td>\n    </tr>\n  </tbody>\n</table>\n<p>754 rows × 13 columns</p>\n</div>"
     },
     "execution_count": 109,
     "metadata": {},
     "output_type": "execute_result"
    }
   ],
   "source": [
    "# Calculate the simple moving average of the closing price on 5 days and 20 days\n",
    "long = 20\n",
    "df_tesla['20-day SMA'] = df_tesla['Close'].rolling(window=long).mean()\n",
    "df_tesla"
   ],
   "metadata": {
    "collapsed": false,
    "pycharm": {
     "name": "#%%\n"
    }
   }
  },
  {
   "cell_type": "code",
   "execution_count": 110,
   "outputs": [
    {
     "data": {
      "text/plain": "                            0\nTotal transactions  51.000000\nAverage revenue     -0.277680\nTotal revenue       -6.942009",
      "text/html": "<div>\n<style scoped>\n    .dataframe tbody tr th:only-of-type {\n        vertical-align: middle;\n    }\n\n    .dataframe tbody tr th {\n        vertical-align: top;\n    }\n\n    .dataframe thead th {\n        text-align: right;\n    }\n</style>\n<table border=\"1\" class=\"dataframe\">\n  <thead>\n    <tr style=\"text-align: right;\">\n      <th></th>\n      <th>0</th>\n    </tr>\n  </thead>\n  <tbody>\n    <tr>\n      <th>Total transactions</th>\n      <td>51.000000</td>\n    </tr>\n    <tr>\n      <th>Average revenue</th>\n      <td>-0.277680</td>\n    </tr>\n    <tr>\n      <th>Total revenue</th>\n      <td>-6.942009</td>\n    </tr>\n  </tbody>\n</table>\n</div>"
     },
     "execution_count": 110,
     "metadata": {},
     "output_type": "execute_result"
    }
   ],
   "source": [
    "# calculate the average revenue of 5-day SMA and 20-day SMA\n",
    "def golden_death_transaction(stock):\n",
    "    status = 0\n",
    "    transactions = 0\n",
    "    buy_price = []\n",
    "    sell_price = []\n",
    "    revenue = []\n",
    "    temp_buyprice = -1\n",
    "\n",
    "    for i in range(len(stock)):\n",
    "        if stock['5-day SMA'][i] > stock['20-day SMA'][i]:\n",
    "                # signal to buy:\n",
    "            if status != 1:\n",
    "                status = 1\n",
    "                buy_price.append(stock['Open'][i + 1])\n",
    "                sell_price.append(np.nan)\n",
    "                temp_buyprice= stock['Open'][i+1]\n",
    "                revenue.append(np.nan)\n",
    "                transactions += 1\n",
    "            else:\n",
    "                buy_price.append(np.nan)\n",
    "                sell_price.append(np.nan)\n",
    "                revenue.append(np.nan)\n",
    "        elif stock['5-day SMA'][i] < stock['20-day SMA'][i]:\n",
    "            # signal to sell:\n",
    "            if status !=0:\n",
    "                status = 0\n",
    "                buy_price.append(np.nan)\n",
    "                sell_price.append(stock['Open'][i+1])\n",
    "                revenue.append(stock['Open'][i+1]- temp_buyprice)\n",
    "                transactions += 1\n",
    "            else:\n",
    "                buy_price.append(np.nan)\n",
    "                sell_price.append(np.nan)\n",
    "                revenue.append(np.nan)\n",
    "        else:\n",
    "            buy_price.append(np.nan)\n",
    "            sell_price.append(np.nan)\n",
    "            revenue.append(np.nan)\n",
    "\n",
    "    return buy_price, sell_price, revenue, transactions\n",
    "\n",
    "result_tesla_5_20 = golden_death_transaction(df_tesla)\n",
    "average_revenue_5_20 = np.nanmean(result_tesla_5_20[2])\n",
    "total_revenue_5_20 = np.nansum(result_tesla_5_20[2])\n",
    "total_transactions_5_20 = result_tesla_5_20[3]\n",
    "\n",
    "df_result_tesla_5_20 = pd.DataFrame([total_transactions_5_20,average_revenue_5_20, total_revenue_5_20], index=['Total transactions', 'Average revenue', 'Total revenue'])\n",
    "df_result_tesla_5_20"
   ],
   "metadata": {
    "collapsed": false,
    "pycharm": {
     "name": "#%%\n"
    }
   }
  },
  {
   "cell_type": "code",
   "execution_count": 116,
   "outputs": [
    {
     "data": {
      "text/plain": "          Date  revenue\n0   2017-01-03      NaN\n1   2017-01-04      NaN\n2   2017-01-05      NaN\n3   2017-01-06      NaN\n4   2017-01-09      NaN\n..         ...      ...\n749 2019-12-24      NaN\n750 2019-12-26      NaN\n751 2019-12-27      NaN\n752 2019-12-30      NaN\n753 2019-12-31      NaN\n\n[754 rows x 2 columns]",
      "text/html": "<div>\n<style scoped>\n    .dataframe tbody tr th:only-of-type {\n        vertical-align: middle;\n    }\n\n    .dataframe tbody tr th {\n        vertical-align: top;\n    }\n\n    .dataframe thead th {\n        text-align: right;\n    }\n</style>\n<table border=\"1\" class=\"dataframe\">\n  <thead>\n    <tr style=\"text-align: right;\">\n      <th></th>\n      <th>Date</th>\n      <th>revenue</th>\n    </tr>\n  </thead>\n  <tbody>\n    <tr>\n      <th>0</th>\n      <td>2017-01-03</td>\n      <td>NaN</td>\n    </tr>\n    <tr>\n      <th>1</th>\n      <td>2017-01-04</td>\n      <td>NaN</td>\n    </tr>\n    <tr>\n      <th>2</th>\n      <td>2017-01-05</td>\n      <td>NaN</td>\n    </tr>\n    <tr>\n      <th>3</th>\n      <td>2017-01-06</td>\n      <td>NaN</td>\n    </tr>\n    <tr>\n      <th>4</th>\n      <td>2017-01-09</td>\n      <td>NaN</td>\n    </tr>\n    <tr>\n      <th>...</th>\n      <td>...</td>\n      <td>...</td>\n    </tr>\n    <tr>\n      <th>749</th>\n      <td>2019-12-24</td>\n      <td>NaN</td>\n    </tr>\n    <tr>\n      <th>750</th>\n      <td>2019-12-26</td>\n      <td>NaN</td>\n    </tr>\n    <tr>\n      <th>751</th>\n      <td>2019-12-27</td>\n      <td>NaN</td>\n    </tr>\n    <tr>\n      <th>752</th>\n      <td>2019-12-30</td>\n      <td>NaN</td>\n    </tr>\n    <tr>\n      <th>753</th>\n      <td>2019-12-31</td>\n      <td>NaN</td>\n    </tr>\n  </tbody>\n</table>\n<p>754 rows × 2 columns</p>\n</div>"
     },
     "execution_count": 116,
     "metadata": {},
     "output_type": "execute_result"
    }
   ],
   "source": [
    "df_stock_alter_5_20 = pd.DataFrame({'Date':df_tesla['Date'], 'revenue': result_tesla_5_20[2]})\n",
    "df_stock_alter_5_20"
   ],
   "metadata": {
    "collapsed": false,
    "pycharm": {
     "name": "#%%\n"
    }
   }
  },
  {
   "cell_type": "markdown",
   "source": [
    "According to the result of average revenue of 5_10 day SMA which is 0,381050 with in total 81 transactions, and the average of 5_20 day SMA which is -0,277680 with in total 51 transactions.\n",
    "We can see that the average revenue of 5_10 day SMA is lower that the average revenue of 5_20 day SMA. The 5_10 day SMA is the better strategy in average revenue."
   ],
   "metadata": {
    "collapsed": false,
    "pycharm": {
     "name": "#%% md\n"
    }
   }
  },
  {
   "cell_type": "code",
   "execution_count": 121,
   "outputs": [
    {
     "ename": "TypeError",
     "evalue": "barh() missing 1 required positional argument: 'width'",
     "output_type": "error",
     "traceback": [
      "\u001B[0;31m---------------------------------------------------------------------------\u001B[0m",
      "\u001B[0;31mTypeError\u001B[0m                                 Traceback (most recent call last)",
      "Input \u001B[0;32mIn [121]\u001B[0m, in \u001B[0;36m<cell line: 3>\u001B[0;34m()\u001B[0m\n\u001B[1;32m      1\u001B[0m \u001B[38;5;66;03m# compare the average revenue of 5_10 day SMA and 5_20 day SMA\u001B[39;00m\n\u001B[1;32m      2\u001B[0m plt\u001B[38;5;241m.\u001B[39mfigure(figsize \u001B[38;5;241m=\u001B[39m (\u001B[38;5;241m18\u001B[39m,\u001B[38;5;241m9\u001B[39m))\n\u001B[0;32m----> 3\u001B[0m \u001B[43mplt\u001B[49m\u001B[38;5;241;43m.\u001B[39;49m\u001B[43mbarh\u001B[49m\u001B[43m(\u001B[49m\u001B[43mdf_stock_alter\u001B[49m\u001B[43m[\u001B[49m\u001B[38;5;124;43m'\u001B[39;49m\u001B[38;5;124;43mrevenue\u001B[39;49m\u001B[38;5;124;43m'\u001B[39;49m\u001B[43m]\u001B[49m\u001B[38;5;241;43m.\u001B[39;49m\u001B[43mmean\u001B[49m\u001B[43m(\u001B[49m\u001B[43m)\u001B[49m\u001B[43m,\u001B[49m\u001B[43m \u001B[49m\u001B[43mcolor\u001B[49m\u001B[43m \u001B[49m\u001B[38;5;241;43m=\u001B[39;49m\u001B[43m \u001B[49m\u001B[38;5;124;43m'\u001B[39;49m\u001B[38;5;124;43mblue\u001B[39;49m\u001B[38;5;124;43m'\u001B[39;49m\u001B[43m,\u001B[49m\u001B[43m \u001B[49m\u001B[43mlabel\u001B[49m\u001B[43m \u001B[49m\u001B[38;5;241;43m=\u001B[39;49m\u001B[43m \u001B[49m\u001B[38;5;124;43m'\u001B[39;49m\u001B[38;5;124;43maverage_5_10\u001B[39;49m\u001B[38;5;124;43m'\u001B[39;49m\u001B[43m)\u001B[49m\n\u001B[1;32m      4\u001B[0m plt\u001B[38;5;241m.\u001B[39mbarh(df_stock_alter_5_20[\u001B[38;5;124m'\u001B[39m\u001B[38;5;124mrevenue\u001B[39m\u001B[38;5;124m'\u001B[39m]\u001B[38;5;241m.\u001B[39mmean(), color \u001B[38;5;241m=\u001B[39m \u001B[38;5;124m'\u001B[39m\u001B[38;5;124mred\u001B[39m\u001B[38;5;124m'\u001B[39m, label \u001B[38;5;241m=\u001B[39m \u001B[38;5;124m'\u001B[39m\u001B[38;5;124maverage_5_20\u001B[39m\u001B[38;5;124m'\u001B[39m)\n\u001B[1;32m      5\u001B[0m plt\u001B[38;5;241m.\u001B[39mlegend(loc \u001B[38;5;241m=\u001B[39m \u001B[38;5;124m'\u001B[39m\u001B[38;5;124mupper left\u001B[39m\u001B[38;5;124m'\u001B[39m)\n",
      "\u001B[0;31mTypeError\u001B[0m: barh() missing 1 required positional argument: 'width'"
     ]
    },
    {
     "data": {
      "text/plain": "<Figure size 1296x648 with 0 Axes>"
     },
     "metadata": {},
     "output_type": "display_data"
    }
   ],
   "source": [
    "# compare the average revenue of 5_10 day SMA and 5_20 day SMA\n",
    "plt.figure(figsize = (18,9))\n",
    "plt.barh(df_stock_alter['Date'], df_stock_alter['revenue'].mean(), color = 'blue', label = 'average_5_10')\n",
    "plt.barh(df_stock_alter['Date'], df_stock_alter_5_20['revenue'].mean(), color = 'red', label = 'average_5_20')\n",
    "plt.legend(loc = 'upper left')\n",
    "plt.grid()\n",
    "plt.xlabel('Date')\n",
    "plt.ylabel('revenue')\n",
    "plt.title('Average revenue of 5_10 day SMA and 5_20 day SMA')\n",
    "plt.show()"
   ],
   "metadata": {
    "collapsed": false,
    "pycharm": {
     "name": "#%%\n"
    }
   }
  },
  {
   "cell_type": "markdown",
   "source": [
    "Question(E) Continue with (B) Write a python to close your position at the end of the trading period, that is, sell all your stocks at the best price for closing your position. Please export your accumulated revenue to Q3_e.xlsx."
   ],
   "metadata": {
    "collapsed": false,
    "pycharm": {
     "name": "#%% md\n"
    }
   }
  },
  {
   "cell_type": "code",
   "execution_count": null,
   "outputs": [],
   "source": [],
   "metadata": {
    "collapsed": false,
    "pycharm": {
     "name": "#%%\n"
    }
   }
  }
 ],
 "metadata": {
  "kernelspec": {
   "display_name": "Python 3",
   "language": "python",
   "name": "python3"
  },
  "language_info": {
   "codemirror_mode": {
    "name": "ipython",
    "version": 2
   },
   "file_extension": ".py",
   "mimetype": "text/x-python",
   "name": "python",
   "nbconvert_exporter": "python",
   "pygments_lexer": "ipython2",
   "version": "2.7.6"
  }
 },
 "nbformat": 4,
 "nbformat_minor": 0
}